{
 "cells": [
  {
   "cell_type": "markdown",
   "metadata": {},
   "source": [
    "# Проект для «Викишоп»"
   ]
  },
  {
   "cell_type": "markdown",
   "metadata": {},
   "source": [
    "Интернет-магазин «Викишоп» запускает новый сервис. Теперь пользователи могут редактировать и дополнять описания товаров, как в вики-сообществах. То есть клиенты предлагают свои правки и комментируют изменения других. Магазину нужен инструмент, который будет искать токсичные комментарии и отправлять их на модерацию. \n",
    "\n",
    "Обучите модель классифицировать комментарии на позитивные и негативные. В вашем распоряжении набор данных с разметкой о токсичности правок.\n",
    "\n",
    "Техническое задание:\n",
    "Метрика качества модели *F1* не меньше 0.75. \n",
    "\n",
    "**План выполнения проекта**\n",
    "\n",
    "1. Загрузить и подготовьть данные.\n",
    "2. Обучить разные модели. \n",
    "3. Сделайть выводы.\n",
    "\n",
    "Для выполнения проекта будет применяться класс TfidfVectorizer().\n",
    "\n",
    "**Описание данных**\n",
    "\n",
    "Данные находятся в файле `toxic_comments.csv`. Столбец *text* в нём содержит текст комментария, а *toxic* — целевой признак."
   ]
  },
  {
   "cell_type": "markdown",
   "metadata": {},
   "source": [
    "## Подготовка"
   ]
  },
  {
   "cell_type": "markdown",
   "metadata": {},
   "source": [
    "Импортируем необходимые инструменты для работы."
   ]
  },
  {
   "cell_type": "code",
   "execution_count": 1,
   "metadata": {},
   "outputs": [
    {
     "name": "stdout",
     "output_type": "stream",
     "text": [
      "WARNING:tensorflow:From C:\\Users\\Admin\\AppData\\Roaming\\Python\\Python310\\site-packages\\keras\\src\\losses.py:2976: The name tf.losses.sparse_softmax_cross_entropy is deprecated. Please use tf.compat.v1.losses.sparse_softmax_cross_entropy instead.\n",
      "\n"
     ]
    },
    {
     "name": "stderr",
     "output_type": "stream",
     "text": [
      "[nltk_data] Downloading package stopwords to\n",
      "[nltk_data]     C:\\Users\\Admin\\AppData\\Roaming\\nltk_data...\n",
      "[nltk_data]   Package stopwords is already up-to-date!\n"
     ]
    }
   ],
   "source": [
    "import numpy as np\n",
    "import pandas as pd\n",
    "import torch\n",
    "import transformers\n",
    "from tqdm import notebook\n",
    "from sklearn.linear_model import LogisticRegression\n",
    "from sklearn.model_selection import cross_val_score\n",
    "from sklearn.model_selection import train_test_split\n",
    "from sklearn.metrics import accuracy_score, f1_score\n",
    "\n",
    "from pymystem3 import Mystem\n",
    "import re\n",
    "from sklearn.feature_extraction.text import CountVectorizer \n",
    "from nltk.corpus import stopwords\n",
    "import nltk\n",
    "nltk.download('stopwords')\n",
    "from nltk.corpus import stopwords as nltk_stopwords\n",
    "from sklearn.feature_extraction.text import TfidfVectorizer\n",
    "\n",
    "import warnings\n",
    "warnings.filterwarnings('ignore')\n",
    "\n",
    "from sklearn.ensemble import RandomForestClassifier\n",
    "from sklearn.tree import DecisionTreeClassifier\n",
    "from catboost import CatBoostClassifier\n",
    "\n",
    "from sklearn.model_selection import GridSearchCV\n",
    "from sklearn.pipeline import Pipeline\n",
    "\n",
    "from sklearn.utils import shuffle\n",
    "pd.set_option('max_colwidth', 100)"
   ]
  },
  {
   "cell_type": "code",
   "execution_count": 2,
   "metadata": {},
   "outputs": [],
   "source": [
    "import spacy"
   ]
  },
  {
   "cell_type": "markdown",
   "metadata": {},
   "source": [
    "Загрузим данные и посмотрим общую информацию."
   ]
  },
  {
   "cell_type": "code",
   "execution_count": 3,
   "metadata": {},
   "outputs": [],
   "source": [
    "df = pd.read_csv(r'C:\\Users\\Admin\\text_recognition\\toxic_comments.csv')#, index_col = [0])"
   ]
  },
  {
   "cell_type": "code",
   "execution_count": 4,
   "metadata": {},
   "outputs": [
    {
     "data": {
      "text/html": [
       "<div>\n",
       "<style scoped>\n",
       "    .dataframe tbody tr th:only-of-type {\n",
       "        vertical-align: middle;\n",
       "    }\n",
       "\n",
       "    .dataframe tbody tr th {\n",
       "        vertical-align: top;\n",
       "    }\n",
       "\n",
       "    .dataframe thead th {\n",
       "        text-align: right;\n",
       "    }\n",
       "</style>\n",
       "<table border=\"1\" class=\"dataframe\">\n",
       "  <thead>\n",
       "    <tr style=\"text-align: right;\">\n",
       "      <th></th>\n",
       "      <th>Unnamed: 0</th>\n",
       "      <th>text</th>\n",
       "      <th>toxic</th>\n",
       "    </tr>\n",
       "  </thead>\n",
       "  <tbody>\n",
       "    <tr>\n",
       "      <th>0</th>\n",
       "      <td>0</td>\n",
       "      <td>Explanation\\nWhy the edits made under my username Hardcore Metallica Fan were reverted? They wer...</td>\n",
       "      <td>0</td>\n",
       "    </tr>\n",
       "    <tr>\n",
       "      <th>1</th>\n",
       "      <td>1</td>\n",
       "      <td>D'aww! He matches this background colour I'm seemingly stuck with. Thanks.  (talk) 21:51, Januar...</td>\n",
       "      <td>0</td>\n",
       "    </tr>\n",
       "    <tr>\n",
       "      <th>2</th>\n",
       "      <td>2</td>\n",
       "      <td>Hey man, I'm really not trying to edit war. It's just that this guy is constantly removing relev...</td>\n",
       "      <td>0</td>\n",
       "    </tr>\n",
       "    <tr>\n",
       "      <th>3</th>\n",
       "      <td>3</td>\n",
       "      <td>\"\\nMore\\nI can't make any real suggestions on improvement - I wondered if the section statistics...</td>\n",
       "      <td>0</td>\n",
       "    </tr>\n",
       "    <tr>\n",
       "      <th>4</th>\n",
       "      <td>4</td>\n",
       "      <td>You, sir, are my hero. Any chance you remember what page that's on?</td>\n",
       "      <td>0</td>\n",
       "    </tr>\n",
       "  </tbody>\n",
       "</table>\n",
       "</div>"
      ],
      "text/plain": [
       "   Unnamed: 0  \\\n",
       "0           0   \n",
       "1           1   \n",
       "2           2   \n",
       "3           3   \n",
       "4           4   \n",
       "\n",
       "                                                                                                  text  \\\n",
       "0  Explanation\\nWhy the edits made under my username Hardcore Metallica Fan were reverted? They wer...   \n",
       "1  D'aww! He matches this background colour I'm seemingly stuck with. Thanks.  (talk) 21:51, Januar...   \n",
       "2  Hey man, I'm really not trying to edit war. It's just that this guy is constantly removing relev...   \n",
       "3  \"\\nMore\\nI can't make any real suggestions on improvement - I wondered if the section statistics...   \n",
       "4                                  You, sir, are my hero. Any chance you remember what page that's on?   \n",
       "\n",
       "   toxic  \n",
       "0      0  \n",
       "1      0  \n",
       "2      0  \n",
       "3      0  \n",
       "4      0  "
      ]
     },
     "execution_count": 4,
     "metadata": {},
     "output_type": "execute_result"
    }
   ],
   "source": [
    "df.head()"
   ]
  },
  {
   "cell_type": "code",
   "execution_count": 5,
   "metadata": {},
   "outputs": [
    {
     "name": "stdout",
     "output_type": "stream",
     "text": [
      "<class 'pandas.core.frame.DataFrame'>\n",
      "RangeIndex: 159292 entries, 0 to 159291\n",
      "Data columns (total 3 columns):\n",
      " #   Column      Non-Null Count   Dtype \n",
      "---  ------      --------------   ----- \n",
      " 0   Unnamed: 0  159292 non-null  int64 \n",
      " 1   text        159292 non-null  object\n",
      " 2   toxic       159292 non-null  int64 \n",
      "dtypes: int64(2), object(1)\n",
      "memory usage: 3.6+ MB\n"
     ]
    }
   ],
   "source": [
    "df.info()"
   ]
  },
  {
   "cell_type": "markdown",
   "metadata": {},
   "source": [
    "Проверим на пропуски и дубликаты, уникальные значения в столбце toxic."
   ]
  },
  {
   "cell_type": "code",
   "execution_count": 6,
   "metadata": {
    "scrolled": true
   },
   "outputs": [
    {
     "data": {
      "text/plain": [
       "Unnamed: 0    0\n",
       "text          0\n",
       "toxic         0\n",
       "dtype: int64"
      ]
     },
     "execution_count": 6,
     "metadata": {},
     "output_type": "execute_result"
    }
   ],
   "source": [
    "df.isna().sum()"
   ]
  },
  {
   "cell_type": "code",
   "execution_count": 7,
   "metadata": {},
   "outputs": [
    {
     "data": {
      "text/plain": [
       "0"
      ]
     },
     "execution_count": 7,
     "metadata": {},
     "output_type": "execute_result"
    }
   ],
   "source": [
    "df.duplicated().sum()"
   ]
  },
  {
   "cell_type": "code",
   "execution_count": 8,
   "metadata": {},
   "outputs": [
    {
     "data": {
      "text/plain": [
       "array([0, 1], dtype=int64)"
      ]
     },
     "execution_count": 8,
     "metadata": {},
     "output_type": "execute_result"
    }
   ],
   "source": [
    "df['toxic'].unique()"
   ]
  },
  {
   "cell_type": "markdown",
   "metadata": {},
   "source": [
    "Лемматизируем текст коментариев."
   ]
  },
  {
   "cell_type": "code",
   "execution_count": 9,
   "metadata": {},
   "outputs": [],
   "source": [
    "nlp = spacy.load(\"en_core_web_sm\")"
   ]
  },
  {
   "cell_type": "code",
   "execution_count": 10,
   "metadata": {},
   "outputs": [],
   "source": [
    "def lem(row): \n",
    "    doc = nlp(row['text'])\n",
    "    doc = \" \".join([token.lemma_ for token in doc])\n",
    "    return doc\n",
    "df['lemm_t'] = df.apply(lem, axis=1)"
   ]
  },
  {
   "cell_type": "code",
   "execution_count": 11,
   "metadata": {},
   "outputs": [
    {
     "data": {
      "text/html": [
       "<div>\n",
       "<style scoped>\n",
       "    .dataframe tbody tr th:only-of-type {\n",
       "        vertical-align: middle;\n",
       "    }\n",
       "\n",
       "    .dataframe tbody tr th {\n",
       "        vertical-align: top;\n",
       "    }\n",
       "\n",
       "    .dataframe thead th {\n",
       "        text-align: right;\n",
       "    }\n",
       "</style>\n",
       "<table border=\"1\" class=\"dataframe\">\n",
       "  <thead>\n",
       "    <tr style=\"text-align: right;\">\n",
       "      <th></th>\n",
       "      <th>Unnamed: 0</th>\n",
       "      <th>text</th>\n",
       "      <th>toxic</th>\n",
       "      <th>lemm_t</th>\n",
       "    </tr>\n",
       "  </thead>\n",
       "  <tbody>\n",
       "    <tr>\n",
       "      <th>0</th>\n",
       "      <td>0</td>\n",
       "      <td>Explanation\\nWhy the edits made under my username Hardcore Metallica Fan were reverted? They wer...</td>\n",
       "      <td>0</td>\n",
       "      <td>Explanation \\n why the edit make under my username Hardcore Metallica Fan be revert ? they be no...</td>\n",
       "    </tr>\n",
       "    <tr>\n",
       "      <th>1</th>\n",
       "      <td>1</td>\n",
       "      <td>D'aww! He matches this background colour I'm seemingly stuck with. Thanks.  (talk) 21:51, Januar...</td>\n",
       "      <td>0</td>\n",
       "      <td>D'aww ! he match this background colour I be seemingly stick with . thank .   ( talk ) 21:51 , J...</td>\n",
       "    </tr>\n",
       "    <tr>\n",
       "      <th>2</th>\n",
       "      <td>2</td>\n",
       "      <td>Hey man, I'm really not trying to edit war. It's just that this guy is constantly removing relev...</td>\n",
       "      <td>0</td>\n",
       "      <td>hey man , I be really not try to edit war . it be just that this guy be constantly remove releva...</td>\n",
       "    </tr>\n",
       "    <tr>\n",
       "      <th>3</th>\n",
       "      <td>3</td>\n",
       "      <td>\"\\nMore\\nI can't make any real suggestions on improvement - I wondered if the section statistics...</td>\n",
       "      <td>0</td>\n",
       "      <td>\" \\n More \\n I can not make any real suggestion on improvement - I wonder if the section statist...</td>\n",
       "    </tr>\n",
       "    <tr>\n",
       "      <th>4</th>\n",
       "      <td>4</td>\n",
       "      <td>You, sir, are my hero. Any chance you remember what page that's on?</td>\n",
       "      <td>0</td>\n",
       "      <td>you , sir , be my hero . any chance you remember what page that be on ?</td>\n",
       "    </tr>\n",
       "  </tbody>\n",
       "</table>\n",
       "</div>"
      ],
      "text/plain": [
       "   Unnamed: 0  \\\n",
       "0           0   \n",
       "1           1   \n",
       "2           2   \n",
       "3           3   \n",
       "4           4   \n",
       "\n",
       "                                                                                                  text  \\\n",
       "0  Explanation\\nWhy the edits made under my username Hardcore Metallica Fan were reverted? They wer...   \n",
       "1  D'aww! He matches this background colour I'm seemingly stuck with. Thanks.  (talk) 21:51, Januar...   \n",
       "2  Hey man, I'm really not trying to edit war. It's just that this guy is constantly removing relev...   \n",
       "3  \"\\nMore\\nI can't make any real suggestions on improvement - I wondered if the section statistics...   \n",
       "4                                  You, sir, are my hero. Any chance you remember what page that's on?   \n",
       "\n",
       "   toxic  \\\n",
       "0      0   \n",
       "1      0   \n",
       "2      0   \n",
       "3      0   \n",
       "4      0   \n",
       "\n",
       "                                                                                                lemm_t  \n",
       "0  Explanation \\n why the edit make under my username Hardcore Metallica Fan be revert ? they be no...  \n",
       "1  D'aww ! he match this background colour I be seemingly stick with . thank .   ( talk ) 21:51 , J...  \n",
       "2  hey man , I be really not try to edit war . it be just that this guy be constantly remove releva...  \n",
       "3  \" \\n More \\n I can not make any real suggestion on improvement - I wonder if the section statist...  \n",
       "4                              you , sir , be my hero . any chance you remember what page that be on ?  "
      ]
     },
     "execution_count": 11,
     "metadata": {},
     "output_type": "execute_result"
    }
   ],
   "source": [
    "df.head()"
   ]
  },
  {
   "cell_type": "code",
   "execution_count": 12,
   "metadata": {},
   "outputs": [],
   "source": [
    "def clear_text(row):\n",
    "    text=row['lemm_t']\n",
    "    text = re.sub(r'[^a-zA-Z]', ' ', text)\n",
    "    text = text.split()\n",
    "    text = \" \".join(text)\n",
    "    return text\n",
    "df['lemm_text'] = df.apply(clear_text, axis=1)"
   ]
  },
  {
   "cell_type": "code",
   "execution_count": 13,
   "metadata": {},
   "outputs": [],
   "source": [
    "#!{sys.executable} -m spacy download en"
   ]
  },
  {
   "cell_type": "code",
   "execution_count": 14,
   "metadata": {},
   "outputs": [],
   "source": [
    "#df.to_csv('df_l_cl.csv')"
   ]
  },
  {
   "cell_type": "markdown",
   "metadata": {},
   "source": [
    "Посмотрим на датасет который получился."
   ]
  },
  {
   "cell_type": "code",
   "execution_count": 15,
   "metadata": {},
   "outputs": [
    {
     "data": {
      "text/html": [
       "<div>\n",
       "<style scoped>\n",
       "    .dataframe tbody tr th:only-of-type {\n",
       "        vertical-align: middle;\n",
       "    }\n",
       "\n",
       "    .dataframe tbody tr th {\n",
       "        vertical-align: top;\n",
       "    }\n",
       "\n",
       "    .dataframe thead th {\n",
       "        text-align: right;\n",
       "    }\n",
       "</style>\n",
       "<table border=\"1\" class=\"dataframe\">\n",
       "  <thead>\n",
       "    <tr style=\"text-align: right;\">\n",
       "      <th></th>\n",
       "      <th>Unnamed: 0</th>\n",
       "      <th>text</th>\n",
       "      <th>toxic</th>\n",
       "      <th>lemm_t</th>\n",
       "      <th>lemm_text</th>\n",
       "    </tr>\n",
       "  </thead>\n",
       "  <tbody>\n",
       "    <tr>\n",
       "      <th>0</th>\n",
       "      <td>0</td>\n",
       "      <td>Explanation\\nWhy the edits made under my username Hardcore Metallica Fan were reverted? They wer...</td>\n",
       "      <td>0</td>\n",
       "      <td>Explanation \\n why the edit make under my username Hardcore Metallica Fan be revert ? they be no...</td>\n",
       "      <td>Explanation why the edit make under my username Hardcore Metallica Fan be revert they be not van...</td>\n",
       "    </tr>\n",
       "    <tr>\n",
       "      <th>1</th>\n",
       "      <td>1</td>\n",
       "      <td>D'aww! He matches this background colour I'm seemingly stuck with. Thanks.  (talk) 21:51, Januar...</td>\n",
       "      <td>0</td>\n",
       "      <td>D'aww ! he match this background colour I be seemingly stick with . thank .   ( talk ) 21:51 , J...</td>\n",
       "      <td>D aww he match this background colour I be seemingly stick with thank talk January UTC</td>\n",
       "    </tr>\n",
       "    <tr>\n",
       "      <th>2</th>\n",
       "      <td>2</td>\n",
       "      <td>Hey man, I'm really not trying to edit war. It's just that this guy is constantly removing relev...</td>\n",
       "      <td>0</td>\n",
       "      <td>hey man , I be really not try to edit war . it be just that this guy be constantly remove releva...</td>\n",
       "      <td>hey man I be really not try to edit war it be just that this guy be constantly remove relevant i...</td>\n",
       "    </tr>\n",
       "  </tbody>\n",
       "</table>\n",
       "</div>"
      ],
      "text/plain": [
       "   Unnamed: 0  \\\n",
       "0           0   \n",
       "1           1   \n",
       "2           2   \n",
       "\n",
       "                                                                                                  text  \\\n",
       "0  Explanation\\nWhy the edits made under my username Hardcore Metallica Fan were reverted? They wer...   \n",
       "1  D'aww! He matches this background colour I'm seemingly stuck with. Thanks.  (talk) 21:51, Januar...   \n",
       "2  Hey man, I'm really not trying to edit war. It's just that this guy is constantly removing relev...   \n",
       "\n",
       "   toxic  \\\n",
       "0      0   \n",
       "1      0   \n",
       "2      0   \n",
       "\n",
       "                                                                                                lemm_t  \\\n",
       "0  Explanation \\n why the edit make under my username Hardcore Metallica Fan be revert ? they be no...   \n",
       "1  D'aww ! he match this background colour I be seemingly stick with . thank .   ( talk ) 21:51 , J...   \n",
       "2  hey man , I be really not try to edit war . it be just that this guy be constantly remove releva...   \n",
       "\n",
       "                                                                                             lemm_text  \n",
       "0  Explanation why the edit make under my username Hardcore Metallica Fan be revert they be not van...  \n",
       "1               D aww he match this background colour I be seemingly stick with thank talk January UTC  \n",
       "2  hey man I be really not try to edit war it be just that this guy be constantly remove relevant i...  "
      ]
     },
     "execution_count": 15,
     "metadata": {},
     "output_type": "execute_result"
    }
   ],
   "source": [
    "df.head(3)"
   ]
  },
  {
   "cell_type": "markdown",
   "metadata": {},
   "source": [
    "Удалим ненужные столбцы"
   ]
  },
  {
   "cell_type": "code",
   "execution_count": 16,
   "metadata": {},
   "outputs": [],
   "source": [
    "df = df.drop(['Unnamed: 0', 'text', 'lemm_t'], axis = 1)"
   ]
  },
  {
   "cell_type": "code",
   "execution_count": 17,
   "metadata": {},
   "outputs": [
    {
     "data": {
      "text/html": [
       "<div>\n",
       "<style scoped>\n",
       "    .dataframe tbody tr th:only-of-type {\n",
       "        vertical-align: middle;\n",
       "    }\n",
       "\n",
       "    .dataframe tbody tr th {\n",
       "        vertical-align: top;\n",
       "    }\n",
       "\n",
       "    .dataframe thead th {\n",
       "        text-align: right;\n",
       "    }\n",
       "</style>\n",
       "<table border=\"1\" class=\"dataframe\">\n",
       "  <thead>\n",
       "    <tr style=\"text-align: right;\">\n",
       "      <th></th>\n",
       "      <th>toxic</th>\n",
       "      <th>lemm_text</th>\n",
       "    </tr>\n",
       "  </thead>\n",
       "  <tbody>\n",
       "    <tr>\n",
       "      <th>0</th>\n",
       "      <td>0</td>\n",
       "      <td>Explanation why the edit make under my username Hardcore Metallica Fan be revert they be not van...</td>\n",
       "    </tr>\n",
       "    <tr>\n",
       "      <th>1</th>\n",
       "      <td>0</td>\n",
       "      <td>D aww he match this background colour I be seemingly stick with thank talk January UTC</td>\n",
       "    </tr>\n",
       "    <tr>\n",
       "      <th>2</th>\n",
       "      <td>0</td>\n",
       "      <td>hey man I be really not try to edit war it be just that this guy be constantly remove relevant i...</td>\n",
       "    </tr>\n",
       "    <tr>\n",
       "      <th>3</th>\n",
       "      <td>0</td>\n",
       "      <td>More I can not make any real suggestion on improvement I wonder if the section statistic should ...</td>\n",
       "    </tr>\n",
       "    <tr>\n",
       "      <th>4</th>\n",
       "      <td>0</td>\n",
       "      <td>you sir be my hero any chance you remember what page that be on</td>\n",
       "    </tr>\n",
       "  </tbody>\n",
       "</table>\n",
       "</div>"
      ],
      "text/plain": [
       "   toxic  \\\n",
       "0      0   \n",
       "1      0   \n",
       "2      0   \n",
       "3      0   \n",
       "4      0   \n",
       "\n",
       "                                                                                             lemm_text  \n",
       "0  Explanation why the edit make under my username Hardcore Metallica Fan be revert they be not van...  \n",
       "1               D aww he match this background colour I be seemingly stick with thank talk January UTC  \n",
       "2  hey man I be really not try to edit war it be just that this guy be constantly remove relevant i...  \n",
       "3  More I can not make any real suggestion on improvement I wonder if the section statistic should ...  \n",
       "4                                      you sir be my hero any chance you remember what page that be on  "
      ]
     },
     "execution_count": 17,
     "metadata": {},
     "output_type": "execute_result"
    }
   ],
   "source": [
    "df.head()"
   ]
  },
  {
   "cell_type": "markdown",
   "metadata": {},
   "source": [
    "Теперь в таблице остался только лиматизированный сортированный текст и орветы проиндексированные по порядку."
   ]
  },
  {
   "cell_type": "markdown",
   "metadata": {},
   "source": [
    "Подготовим данные для обучения моделей."
   ]
  },
  {
   "cell_type": "code",
   "execution_count": 18,
   "metadata": {},
   "outputs": [],
   "source": [
    "features = df.drop(['toxic'], axis = 1)\n",
    "target = df['toxic']\n",
    "X_train, X_TV, y_train, y_TV = \\\n",
    "train_test_split(features, target, test_size = 0.4, random_state=0)\n",
    "X_valid, X_test, y_valid, y_test = \\\n",
    "train_test_split(X_TV, y_TV, test_size = 0.5, random_state=0)\n",
    "stopwords = set(nltk_stopwords.words('english'))\n",
    "count_tf_idf = TfidfVectorizer(stop_words=list(stopwords)) \n"
   ]
  },
  {
   "cell_type": "code",
   "execution_count": 19,
   "metadata": {},
   "outputs": [
    {
     "name": "stdout",
     "output_type": "stream",
     "text": [
      "(95575, 115865)\n",
      "(31858, 115865)\n",
      "(31859, 115865)\n"
     ]
    }
   ],
   "source": [
    "train_tf = count_tf_idf.fit_transform(X_train['lemm_text'].values)\n",
    "valid_tf = count_tf_idf.transform(X_valid['lemm_text'].values)\n",
    "test_tf = count_tf_idf.transform(X_test['lemm_text'].values)\n",
    "print(train_tf.shape)\n",
    "print(valid_tf.shape)\n",
    "print(test_tf.shape)"
   ]
  },
  {
   "cell_type": "markdown",
   "metadata": {},
   "source": [
    "Вывод:\n",
    "Столбец таблицы с постами был поготовлен(лемитизирован и очищеен), преобразован в векторы.\n"
   ]
  },
  {
   "cell_type": "markdown",
   "metadata": {},
   "source": [
    "## Обучение"
   ]
  },
  {
   "cell_type": "markdown",
   "metadata": {},
   "source": [
    "Обучаем логистическую регрессию, "
   ]
  },
  {
   "cell_type": "markdown",
   "metadata": {},
   "source": [
    "Для выбора наилучшей модели будем баланс  класса,  остальные гиперпараметры по умолчанию т.к. при выборе  модели с подбором гиперпараметров требует неприемливо много времяни. Думаю что основная проблема в решение этой задачи найти баланс недообучения\n",
    "и переобучения модели, чем больше данных тем больше вероятность переобучить модель, чем меньше данных тем больше вероятность \n",
    "недообучить модель. Будем эксперементировать с тренировочной выборкой."
   ]
  },
  {
   "cell_type": "markdown",
   "metadata": {},
   "source": [
    "#### Логистическая регрессия."
   ]
  },
  {
   "cell_type": "code",
   "execution_count": 20,
   "metadata": {
    "scrolled": true
   },
   "outputs": [
    {
     "name": "stdout",
     "output_type": "stream",
     "text": [
      "f1 мера логистической регресии на валидатационной выборке равна:  0.7595762021189895\n"
     ]
    }
   ],
   "source": [
    "model_l = LogisticRegression(random_state=12345, class_weight='balanced')\n",
    "model_l.fit(train_tf, y_train)\n",
    "pred = pd.DataFrame(model_l.predict(valid_tf))\n",
    "print('f1 мера логистической регресии на валидатационной выборке равна: ',f1_score(y_valid, pred)) "
   ]
  },
  {
   "cell_type": "markdown",
   "metadata": {},
   "source": [
    "#### Случайный лес."
   ]
  },
  {
   "cell_type": "code",
   "execution_count": null,
   "metadata": {},
   "outputs": [],
   "source": [
    "model_fc = RandomForestClassifier(random_state=12345, class_weight='balanced')\n",
    "model_fc.fit(train_tf, y_train)\n",
    "pred_fc = model_fc.predict(valid_tf) \n",
    "print('f1 мера случайного леса на валидатационной выборке равна: ', f1_score(pred_fc, y_valid)) "
   ]
  },
  {
   "cell_type": "markdown",
   "metadata": {},
   "source": [
    "#### Дерево решений"
   ]
  },
  {
   "cell_type": "code",
   "execution_count": null,
   "metadata": {},
   "outputs": [],
   "source": [
    "model_d = DecisionTreeClassifier(random_state=12345, class_weight='balanced')\n",
    "model_d.fit(train_tf, y_train)\n",
    "pred_d = model_d.predict(valid_tf)\n",
    "print('f1 мера случайного леса на валидатационной выборке равна: ', f1_score(pred_d, y_valid))"
   ]
  },
  {
   "cell_type": "markdown",
   "metadata": {},
   "source": [
    "#### CatBoostClassifier"
   ]
  },
  {
   "cell_type": "code",
   "execution_count": null,
   "metadata": {},
   "outputs": [],
   "source": [
    "model_cat =  CatBoostClassifier(verbose=False, random_state=12345)\n",
    "model_cat.fit(train_tf, y_train)\n",
    "pred_cat = model_cat.predict(valid_tf)\n",
    "print('f1 мера CatBoostClassifier леса на валидатационной выборке равна: ', f1_score(pred_cat, y_valid))"
   ]
  },
  {
   "cell_type": "markdown",
   "metadata": {},
   "source": [
    "Лучший результат покзаля модель CatBoost, почти f1 = 0.766."
   ]
  },
  {
   "cell_type": "markdown",
   "metadata": {},
   "source": [
    "### Применим функцию upsample"
   ]
  },
  {
   "cell_type": "markdown",
   "metadata": {},
   "source": [
    "Теперь попробуем изменить количество положительного класса. По всей видимости\n",
    "модель получается недообученной. Исправим это.\n",
    "   Напишем функцию которая будет добавлять в датасет положительный класс.\n",
    "Перебирать с помощью цикла не будем т.к. в ходе эксрериментов лучший параметр\n",
    "repeat для каждой модели уже был установлен, а вычисление путем объядинение всех\n",
    "моделей в цикл для подбора repeat потребует неприемлемо много времяни, будем \n",
    "использовать, что уже извесно."
   ]
  },
  {
   "cell_type": "code",
   "execution_count": null,
   "metadata": {},
   "outputs": [],
   "source": [
    "def upsample(features, target, repeat, count_tf_idf):\n",
    "    features_zeros = features[target == 0]\n",
    "    features_ones = features[target == 1]\n",
    "    target_zeros = target[target == 0]\n",
    "    target_ones = target[target == 1]\n",
    "\n",
    "    features_upsampled = pd.concat([features_zeros] + [features_ones] * repeat)\n",
    "    target_upsampled = pd.concat([target_zeros] + [target_ones] * repeat)\n",
    "    \n",
    "    features_upsampled, target_upsampled = shuffle(\n",
    "        features_upsampled, target_upsampled, random_state=12345)\n",
    "    features_upsampled = count_tf_idf.fit_transform(features_upsampled['lemm_text'].values)\n",
    "    return features_upsampled, target_upsampled"
   ]
  },
  {
   "cell_type": "code",
   "execution_count": null,
   "metadata": {},
   "outputs": [],
   "source": [
    "features_upsampled, target_upsampled = upsample(X_train, y_train, 7, count_tf_idf)"
   ]
  },
  {
   "cell_type": "markdown",
   "metadata": {},
   "source": [
    "#### Модель случайный лес"
   ]
  },
  {
   "cell_type": "code",
   "execution_count": null,
   "metadata": {},
   "outputs": [],
   "source": [
    "model_fc = RandomForestClassifier(random_state=12345)\n",
    "model_fc.fit(features_upsampled, target_upsampled)\n",
    "predicted_valid = model_fc.predict(valid_tf)\n",
    "f1_fc = f1_score(y_valid, predicted_valid)\n",
    "print(\"F1 случайного леса на валидционной выборке равен: \", f1_fc)"
   ]
  },
  {
   "cell_type": "markdown",
   "metadata": {},
   "source": [
    "####  Модель дерево решений"
   ]
  },
  {
   "cell_type": "code",
   "execution_count": null,
   "metadata": {},
   "outputs": [],
   "source": [
    "model_d = DecisionTreeClassifier(random_state=12345, max_depth = 500)#500 деревьев т.к. входе экспериментов было установленно что после 70 деревьев метрика начинает колебаться от 0.7 до 0.74\n",
    "model_d.fit(features_upsampled, target_upsampled)\n",
    "p_d = model_d.predict(valid_tf)\n",
    "f1_d = f1_score(y_valid, p_d)\n",
    "print('F1 дерево решений на валидционной выборке равен: ', f1_d)"
   ]
  },
  {
   "cell_type": "markdown",
   "metadata": {},
   "source": [
    "#### Модель логистическая регрессия"
   ]
  },
  {
   "cell_type": "code",
   "execution_count": null,
   "metadata": {},
   "outputs": [],
   "source": [
    "model_l = LogisticRegression(random_state=12345)\n",
    "model_l.fit(features_upsampled, target_upsampled)\n",
    "p_l = model_l.predict(valid_tf)\n",
    "f1_l = f1_score(y_valid, p_l)\n",
    "print('f1 мера логистической регрессии на валидатационной выборке равна: ', f1_l)"
   ]
  },
  {
   "cell_type": "markdown",
   "metadata": {},
   "source": [
    "#### Модель градиентного спуска "
   ]
  },
  {
   "cell_type": "code",
   "execution_count": null,
   "metadata": {},
   "outputs": [],
   "source": [
    "features_upsampled, target_upsampled = upsample(X_train, y_train, 3, count_tf_idf)#параметр repeat поставим равный 3 т.к. в ходе экспериментов было установленно при repeat=3 лучший результат "
   ]
  },
  {
   "cell_type": "code",
   "execution_count": null,
   "metadata": {},
   "outputs": [],
   "source": [
    "model_c = CatBoostClassifier(verbose=False, random_state=12345)\n",
    "model_c.fit(features_upsampled, target_upsampled)\n",
    "p = model_c.predict(valid_tf)\n",
    "pred = pd.DataFrame(p)\n",
    "pred.columns = ['toxic']\n",
    "f1_score(y_valid, pred)"
   ]
  },
  {
   "cell_type": "code",
   "execution_count": null,
   "metadata": {},
   "outputs": [],
   "source": [
    "models = [LogisticRegression(random_state=12345), CatBoostClassifier(verbose=False, random_state=12345)]\n",
    "#DecisionTreeClassifier(random_state=12345),#RandomForestClassifier(random_state=12345)],\n",
    "f1_list = []\n",
    "model_list = []\n",
    "repeat = []"
   ]
  },
  {
   "cell_type": "code",
   "execution_count": null,
   "metadata": {},
   "outputs": [],
   "source": [
    "def f1_scor(features_upsampled, target_upsampled, valid_tf, model):\n",
    "    model.fit(features_upsampled, target_upsampled)\n",
    "    return f1_score(y_valid, model.predict(valid_tf)), model"
   ]
  },
  {
   "cell_type": "code",
   "execution_count": null,
   "metadata": {},
   "outputs": [],
   "source": [
    "for i in range(4,7):\n",
    "    for model in models:    \n",
    "        features_upsampled, target_upsampled = upsample(X_train, y_train, i, count_tf_idf)\n",
    "        f1, model = f1_scor(features_upsampled, target_upsampled, valid_tf, model)\n",
    "        f1_list.append(f1)\n",
    "        model_list.append(model)\n",
    "        repeat.append(i)\n",
    "    print(i-3,'-я  Итерация')"
   ]
  },
  {
   "cell_type": "code",
   "execution_count": null,
   "metadata": {},
   "outputs": [],
   "source": [
    "data = {'f1 мера': f1_list,'модель': model_list, 'коэфициент увеличения полож. класса': repeat}\n",
    "data = pd.DataFrame(data = data)"
   ]
  },
  {
   "cell_type": "code",
   "execution_count": null,
   "metadata": {},
   "outputs": [],
   "source": [
    "data"
   ]
  },
  {
   "cell_type": "markdown",
   "metadata": {},
   "source": [
    "   Из-за  объемности данных пришлось разбить исследование на несколько частей  т.к. ядро \n",
    "не выдерживает, в общую функцию весь анализ поместить не удалось. \n",
    "   Самую высокую f1 = 0.787 меру показала модель  CatBoostClassifier с параметром функции\n",
    "repeat = 3."
   ]
  },
  {
   "cell_type": "markdown",
   "metadata": {},
   "source": [
    "Попробуем изменить подход к тренировке модели. Сформируем тренировочную выборку из положительных\n",
    "ответов и части отрицательных с изменением количества отрицательных. Может быть удасться добиться\n",
    "баланса между переобучением и недообучением модели."
   ]
  },
  {
   "cell_type": "code",
   "execution_count": null,
   "metadata": {},
   "outputs": [],
   "source": [
    "def shap(features, target):\n",
    "    x, x_t, y, y_t = train_test_split(features, target, test_size = 0.2, random_state=12345)\n",
    "    stopwords = set(nltk_stopwords.words('english'))\n",
    "    tf_idf = TfidfVectorizer(stop_words=list(stopwords)) \n",
    "    train_tf = tf_idf.fit_transform(x['lemm_text'].values)\n",
    "    \n",
    "    test_tf = tf_idf.transform(x_t['lemm_text'].values)\n",
    "    \n",
    "    model = CatBoostClassifier(verbose=False, random_state=12345)\n",
    "    model.fit(train_tf, y)\n",
    "    pr = f1_score(y_t, model.predict(test_tf))\n",
    "    print()\n",
    "    print(pr)\n",
    "    print()\n",
    "    return pr, model, tf_idf"
   ]
  },
  {
   "cell_type": "code",
   "execution_count": null,
   "metadata": {},
   "outputs": [],
   "source": [
    "li = [];ln = [];l = [];p_v = []\n",
    "for i in range(12,32):\n",
    "    df_new_1 = X_train[y_train==1]\n",
    "    df_new_0 = X_train[y_train==0]\n",
    "    n = round(df_new_1.shape[0]*i/10)\n",
    "    df_new_0 = df_new_0.sample(n = n, random_state = 12345)\n",
    "    df_new = pd.concat([df_new_0]+[df_new_1])\n",
    "    pr, model_c1, tf_idf  = shap(df_new, y_train[df_new.index])\n",
    "    li.append(i/10)\n",
    "    ln.append(n)\n",
    "    l.append(pr)\n",
    "    val_tf = tf_idf.transform(X_valid['lemm_text'].values)\n",
    "    tes_tf = tf_idf.transform(X_test['lemm_text'].values)\n",
    "    print(val_tf.shape)\n",
    "    print(tes_tf.shape)\n",
    "    pv = model_c1.predict(val_tf)\n",
    "    p_val = f1_score(y_valid, pv)\n",
    "    p_v.append(p_val)\n",
    "    print(p_val)\n"
   ]
  },
  {
   "cell_type": "code",
   "execution_count": null,
   "metadata": {},
   "outputs": [],
   "source": [
    "d = {'часть от положительных':ln,'колличество отрицательных ответов':li, 'f1':l, 'f1 мера на валидатационной выборке':p_v}\n",
    "lm = pd.DataFrame(data = d)\n",
    "lm"
   ]
  },
  {
   "cell_type": "markdown",
   "metadata": {},
   "source": [
    "Из таблицы видно что самая высокая f1 мера при соотношении в тренировочной\n",
    "выборки 3-х частей отрицательных и одной с положительными ответами.\n"
   ]
  },
  {
   "cell_type": "markdown",
   "metadata": {},
   "source": [
    "Вывод:\n",
    "   В ходе поиска наилучшей модели были выполнены действия, были проаналезированны\n",
    "четыре модели - логистическая регрессия, дерево решений, случайный лес и  CatBoost.\n",
    "Первоначально модели были проанализированны без трансформации тренировочной выборки,\n",
    "что дало низкий результат. По техническому заданию f1 мера должна привысить 0.75.\n",
    "При первичном анализе результаты на валидационной выборке получились слижком низкие,\n",
    "логистическая регрессия и CatBoost дали результат близкий к техническому заданию, но на\n",
    "валидатационной выборке, что совсем не гарантирует выполнения его на тестовой выборке,\n",
    "а деревянные модели показали вообше низкий результат.  В дальнейшем я добавил в гипер\n",
    "параметры class_weight='balanced'(взвешивания классов), это дало прирост метрики около\n",
    "2-5 процентов на моделях первых трех моделях. В дальнейшем  помощью техники upsampling\n",
    "я изменил размер обучающей выборки, этот метод дал наилучший  результат f1 = 0.7877 на\n",
    "валидационной выборке модели CatBoost.\n",
    "   В ходе дальнейшего исследования был применен метод по трансформации тренировочной \n",
    "выборки, что значительно уменьшило время обучения.\n"
   ]
  },
  {
   "cell_type": "markdown",
   "metadata": {},
   "source": [
    "## Тестирование модели"
   ]
  },
  {
   "cell_type": "markdown",
   "metadata": {},
   "source": [
    "Для тестирования выберем модель CatBoost которая получилась с помощью применения\n",
    "техники upsampling.  "
   ]
  },
  {
   "cell_type": "code",
   "execution_count": null,
   "metadata": {},
   "outputs": [],
   "source": [
    "p = model_c.predict(test_tf)\n",
    "f1 = f1_score(y_test, p)\n",
    "print('f1 мера модели CatBoost регрессии на тестовой выборке равна: ', f1)"
   ]
  },
  {
   "cell_type": "markdown",
   "metadata": {},
   "source": [
    "## Выводы"
   ]
  },
  {
   "cell_type": "markdown",
   "metadata": {},
   "source": [
    "#### Общий вывод:\n",
    "Интернет-магазин «Викишоп» запускает новый сервис. Теперь пользователи могут редактировать и дополнять описания товаров, как в вики-сообществах. То есть клиенты предлагают свои правки и комментируют изменения других. Магазину нужен инструмент, который будет искать токсичные комментарии и отправлять их на модерацию. \n",
    "Была найдена и обучена модель классифицировать комментарии на позитивные и негативные. \n",
    "Модель определяет таксичность поста, метрика F1 = 0.778  что соответствует тех. заданию.\n",
    "\n"
   ]
  }
 ],
 "metadata": {
  "ExecuteTimeLog": [
   {
    "duration": 2498,
    "start_time": "2023-11-21T10:02:00.185Z"
   },
   {
    "duration": 2400,
    "start_time": "2023-11-21T10:08:14.795Z"
   },
   {
    "duration": 21,
    "start_time": "2023-11-21T10:08:20.239Z"
   },
   {
    "duration": 7,
    "start_time": "2023-11-21T10:08:42.329Z"
   },
   {
    "duration": 30,
    "start_time": "2023-11-21T10:08:58.654Z"
   },
   {
    "duration": 29,
    "start_time": "2023-11-21T10:12:11.188Z"
   },
   {
    "duration": 230,
    "start_time": "2023-11-21T10:12:43.803Z"
   },
   {
    "duration": 206,
    "start_time": "2023-11-21T10:12:56.860Z"
   },
   {
    "duration": 209,
    "start_time": "2023-11-21T10:13:11.752Z"
   },
   {
    "duration": 5,
    "start_time": "2023-11-21T10:15:30.282Z"
   },
   {
    "duration": 1278,
    "start_time": "2023-11-21T10:24:08.998Z"
   },
   {
    "duration": 3,
    "start_time": "2023-11-21T10:33:59.938Z"
   },
   {
    "duration": 7,
    "start_time": "2023-11-21T10:34:06.308Z"
   },
   {
    "duration": 159,
    "start_time": "2023-11-21T10:58:39.445Z"
   },
   {
    "duration": 3021,
    "start_time": "2023-11-21T10:59:37.178Z"
   },
   {
    "duration": 2,
    "start_time": "2023-11-21T10:59:41.803Z"
   },
   {
    "duration": 2911,
    "start_time": "2023-11-21T10:59:42.909Z"
   },
   {
    "duration": 5,
    "start_time": "2023-11-21T11:00:27.916Z"
   },
   {
    "duration": 9948780,
    "start_time": "2023-11-21T11:00:28.888Z"
   },
   {
    "duration": 2339,
    "start_time": "2023-11-21T13:49:40.387Z"
   },
   {
    "duration": 394,
    "start_time": "2023-11-21T13:49:42.728Z"
   },
   {
    "duration": 3,
    "start_time": "2023-11-21T13:49:43.124Z"
   },
   {
    "duration": 2375,
    "start_time": "2023-11-21T13:49:44.271Z"
   },
   {
    "duration": 9,
    "start_time": "2023-11-21T13:49:46.647Z"
   },
   {
    "duration": 31,
    "start_time": "2023-11-21T13:49:46.658Z"
   },
   {
    "duration": 26,
    "start_time": "2023-11-21T13:49:48.192Z"
   },
   {
    "duration": 236,
    "start_time": "2023-11-21T13:49:48.991Z"
   },
   {
    "duration": 5,
    "start_time": "2023-11-21T13:49:50.076Z"
   },
   {
    "duration": 306316,
    "start_time": "2023-11-21T13:49:55.386Z"
   },
   {
    "duration": 13,
    "start_time": "2023-11-21T13:55:43.470Z"
   },
   {
    "duration": 6691,
    "start_time": "2023-11-21T13:55:55.140Z"
   },
   {
    "duration": 5,
    "start_time": "2023-11-21T17:30:43.398Z"
   },
   {
    "duration": 2341,
    "start_time": "2023-11-21T17:47:51.626Z"
   },
   {
    "duration": 393,
    "start_time": "2023-11-21T17:47:53.969Z"
   },
   {
    "duration": 4,
    "start_time": "2023-11-21T17:47:55.544Z"
   },
   {
    "duration": 2287,
    "start_time": "2023-11-21T17:47:58.431Z"
   },
   {
    "duration": 9,
    "start_time": "2023-11-21T17:48:00.720Z"
   },
   {
    "duration": 31,
    "start_time": "2023-11-21T17:48:01.994Z"
   },
   {
    "duration": 26,
    "start_time": "2023-11-21T17:48:04.983Z"
   },
   {
    "duration": 229,
    "start_time": "2023-11-21T17:48:06.401Z"
   },
   {
    "duration": 4,
    "start_time": "2023-11-21T17:48:08.071Z"
   },
   {
    "duration": 314292,
    "start_time": "2023-11-21T17:48:25.679Z"
   },
   {
    "duration": 14,
    "start_time": "2023-11-21T17:58:57.832Z"
   },
   {
    "duration": 12,
    "start_time": "2023-11-21T18:02:49.176Z"
   },
   {
    "duration": 413,
    "start_time": "2023-11-21T18:03:22.481Z"
   },
   {
    "duration": 3,
    "start_time": "2023-11-21T18:04:13.476Z"
   },
   {
    "duration": 94,
    "start_time": "2023-11-21T18:04:14.498Z"
   },
   {
    "duration": 3,
    "start_time": "2023-11-21T18:04:44.473Z"
   },
   {
    "duration": 417,
    "start_time": "2023-11-21T18:04:45.548Z"
   },
   {
    "duration": 26,
    "start_time": "2023-11-21T19:00:38.636Z"
   },
   {
    "duration": 9,
    "start_time": "2023-11-21T19:01:18.430Z"
   },
   {
    "duration": 14,
    "start_time": "2023-11-21T19:02:26.572Z"
   },
   {
    "duration": 8,
    "start_time": "2023-11-21T19:02:54.648Z"
   },
   {
    "duration": 4,
    "start_time": "2023-11-21T19:03:48.186Z"
   },
   {
    "duration": 10,
    "start_time": "2023-11-21T19:06:47.363Z"
   },
   {
    "duration": 12,
    "start_time": "2023-11-21T19:06:48.902Z"
   },
   {
    "duration": 11,
    "start_time": "2023-11-21T19:08:25.289Z"
   },
   {
    "duration": 12,
    "start_time": "2023-11-21T19:08:26.267Z"
   },
   {
    "duration": 10,
    "start_time": "2023-11-21T19:08:40.488Z"
   },
   {
    "duration": 15,
    "start_time": "2023-11-21T19:08:41.444Z"
   },
   {
    "duration": 846,
    "start_time": "2023-11-21T19:10:28.085Z"
   },
   {
    "duration": 7,
    "start_time": "2023-11-21T19:10:30.180Z"
   },
   {
    "duration": 29,
    "start_time": "2023-11-21T19:10:31.904Z"
   },
   {
    "duration": 26,
    "start_time": "2023-11-21T19:12:01.607Z"
   },
   {
    "duration": 219,
    "start_time": "2023-11-21T19:12:05.000Z"
   },
   {
    "duration": 4,
    "start_time": "2023-11-21T19:12:06.510Z"
   },
   {
    "duration": 47,
    "start_time": "2023-11-21T19:19:11.467Z"
   },
   {
    "duration": 6,
    "start_time": "2023-11-21T19:19:18.042Z"
   },
   {
    "duration": 2187,
    "start_time": "2023-11-21T19:19:49.091Z"
   },
   {
    "duration": 965,
    "start_time": "2023-11-21T19:19:52.244Z"
   },
   {
    "duration": 2,
    "start_time": "2023-11-21T19:19:54.316Z"
   },
   {
    "duration": 2179,
    "start_time": "2023-11-21T19:19:56.643Z"
   },
   {
    "duration": 12,
    "start_time": "2023-11-21T19:20:02.590Z"
   },
   {
    "duration": 30,
    "start_time": "2023-11-21T19:20:04.332Z"
   },
   {
    "duration": 25,
    "start_time": "2023-11-21T19:20:06.435Z"
   },
   {
    "duration": 228,
    "start_time": "2023-11-21T19:20:13.709Z"
   },
   {
    "duration": 4,
    "start_time": "2023-11-21T19:20:14.990Z"
   },
   {
    "duration": 301859,
    "start_time": "2023-11-21T19:20:34.104Z"
   },
   {
    "duration": 1147,
    "start_time": "2023-11-21T19:26:47.903Z"
   },
   {
    "duration": 8,
    "start_time": "2023-11-21T19:27:22.993Z"
   },
   {
    "duration": 7,
    "start_time": "2023-11-21T19:28:26.934Z"
   },
   {
    "duration": 13,
    "start_time": "2023-11-21T19:28:39.952Z"
   },
   {
    "duration": 12,
    "start_time": "2023-11-21T19:29:05.256Z"
   },
   {
    "duration": 11,
    "start_time": "2023-11-21T19:29:16.823Z"
   },
   {
    "duration": 12,
    "start_time": "2023-11-21T19:29:33.546Z"
   },
   {
    "duration": 877,
    "start_time": "2023-11-21T19:31:27.793Z"
   },
   {
    "duration": 7,
    "start_time": "2023-11-21T19:31:28.671Z"
   },
   {
    "duration": 31,
    "start_time": "2023-11-21T19:31:29.363Z"
   },
   {
    "duration": 26,
    "start_time": "2023-11-21T19:31:31.040Z"
   },
   {
    "duration": 216,
    "start_time": "2023-11-21T19:31:31.762Z"
   },
   {
    "duration": 5,
    "start_time": "2023-11-21T19:31:32.626Z"
   },
   {
    "duration": 11,
    "start_time": "2023-11-21T19:31:33.773Z"
   },
   {
    "duration": 2182,
    "start_time": "2023-11-21T19:40:31.074Z"
   },
   {
    "duration": 387,
    "start_time": "2023-11-21T19:40:33.258Z"
   },
   {
    "duration": 3,
    "start_time": "2023-11-21T19:40:33.646Z"
   },
   {
    "duration": 2181,
    "start_time": "2023-11-21T19:40:35.234Z"
   },
   {
    "duration": 13,
    "start_time": "2023-11-21T19:40:37.417Z"
   },
   {
    "duration": 31,
    "start_time": "2023-11-21T19:40:38.505Z"
   },
   {
    "duration": 26,
    "start_time": "2023-11-21T19:40:40.560Z"
   },
   {
    "duration": 223,
    "start_time": "2023-11-21T19:40:41.405Z"
   },
   {
    "duration": 5,
    "start_time": "2023-11-21T19:40:42.275Z"
   },
   {
    "duration": 11,
    "start_time": "2023-11-21T19:40:44.234Z"
   },
   {
    "duration": 302790,
    "start_time": "2023-11-21T19:40:46.137Z"
   },
   {
    "duration": 13,
    "start_time": "2023-11-21T19:46:13.828Z"
   },
   {
    "duration": 63,
    "start_time": "2023-11-21T19:50:03.718Z"
   },
   {
    "duration": 6,
    "start_time": "2023-11-21T19:50:19.850Z"
   },
   {
    "duration": 8,
    "start_time": "2023-11-21T19:50:34.270Z"
   },
   {
    "duration": 10,
    "start_time": "2023-11-21T19:50:35.771Z"
   },
   {
    "duration": 7,
    "start_time": "2023-11-21T19:51:07.982Z"
   },
   {
    "duration": 9,
    "start_time": "2023-11-21T19:51:08.765Z"
   },
   {
    "duration": 171,
    "start_time": "2023-11-21T19:51:30.544Z"
   },
   {
    "duration": 6,
    "start_time": "2023-11-21T19:51:51.270Z"
   },
   {
    "duration": 10,
    "start_time": "2023-11-21T19:51:54.065Z"
   },
   {
    "duration": 5,
    "start_time": "2023-11-21T19:51:56.064Z"
   },
   {
    "duration": 3,
    "start_time": "2023-11-21T19:52:03.524Z"
   },
   {
    "duration": 17,
    "start_time": "2023-11-21T19:52:05.895Z"
   },
   {
    "duration": 8,
    "start_time": "2023-11-21T19:59:02.497Z"
   },
   {
    "duration": 6,
    "start_time": "2023-11-21T19:59:44.950Z"
   },
   {
    "duration": 5,
    "start_time": "2023-11-21T20:00:05.238Z"
   },
   {
    "duration": 201,
    "start_time": "2023-11-21T20:04:25.037Z"
   },
   {
    "duration": 11,
    "start_time": "2023-11-21T20:04:25.651Z"
   },
   {
    "duration": 65,
    "start_time": "2023-11-21T20:04:37.760Z"
   },
   {
    "duration": 10,
    "start_time": "2023-11-21T20:04:38.821Z"
   },
   {
    "duration": 62,
    "start_time": "2023-11-21T20:05:28.169Z"
   },
   {
    "duration": 63,
    "start_time": "2023-11-21T20:05:55.689Z"
   },
   {
    "duration": 4,
    "start_time": "2023-11-21T20:05:56.541Z"
   },
   {
    "duration": 288,
    "start_time": "2023-11-21T20:06:01.132Z"
   },
   {
    "duration": 6,
    "start_time": "2023-11-21T20:07:27.804Z"
   },
   {
    "duration": 5,
    "start_time": "2023-11-21T20:07:39.801Z"
   },
   {
    "duration": 2364,
    "start_time": "2023-11-22T07:52:39.766Z"
   },
   {
    "duration": 452,
    "start_time": "2023-11-22T07:52:48.340Z"
   },
   {
    "duration": 4,
    "start_time": "2023-11-22T07:52:49.147Z"
   },
   {
    "duration": 3196,
    "start_time": "2023-11-22T07:52:51.379Z"
   },
   {
    "duration": 16,
    "start_time": "2023-11-22T07:52:54.577Z"
   },
   {
    "duration": 45,
    "start_time": "2023-11-22T07:52:54.594Z"
   },
   {
    "duration": 32,
    "start_time": "2023-11-22T07:52:54.641Z"
   },
   {
    "duration": 226,
    "start_time": "2023-11-22T07:52:55.034Z"
   },
   {
    "duration": 5,
    "start_time": "2023-11-22T07:52:56.889Z"
   },
   {
    "duration": 193,
    "start_time": "2023-11-22T07:55:07.983Z"
   },
   {
    "duration": 15,
    "start_time": "2023-11-22T07:55:40.434Z"
   },
   {
    "duration": 44,
    "start_time": "2023-11-22T07:56:20.917Z"
   },
   {
    "duration": 43,
    "start_time": "2023-11-22T07:56:32.847Z"
   },
   {
    "duration": 15,
    "start_time": "2023-11-22T07:56:42.535Z"
   },
   {
    "duration": 17,
    "start_time": "2023-11-22T07:56:48.180Z"
   },
   {
    "duration": 1658,
    "start_time": "2023-11-22T07:58:08.858Z"
   },
   {
    "duration": 15,
    "start_time": "2023-11-22T07:58:20.881Z"
   },
   {
    "duration": 14,
    "start_time": "2023-11-22T07:58:33.863Z"
   },
   {
    "duration": 17,
    "start_time": "2023-11-22T07:58:41.287Z"
   },
   {
    "duration": 73,
    "start_time": "2023-11-22T07:58:56.447Z"
   },
   {
    "duration": 24,
    "start_time": "2023-11-22T07:59:14.324Z"
   },
   {
    "duration": 114,
    "start_time": "2023-11-22T08:02:46.811Z"
   },
   {
    "duration": 82,
    "start_time": "2023-11-22T08:03:06.752Z"
   },
   {
    "duration": 74,
    "start_time": "2023-11-22T08:07:59.917Z"
   },
   {
    "duration": 76,
    "start_time": "2023-11-22T08:08:07.588Z"
   },
   {
    "duration": 79,
    "start_time": "2023-11-22T08:08:21.232Z"
   },
   {
    "duration": 350396,
    "start_time": "2023-11-22T08:08:58.773Z"
   },
   {
    "duration": 49,
    "start_time": "2023-11-22T08:19:05.208Z"
   },
   {
    "duration": 6953,
    "start_time": "2023-11-22T08:20:13.030Z"
   },
   {
    "duration": 14,
    "start_time": "2023-11-22T08:33:05.433Z"
   },
   {
    "duration": 26,
    "start_time": "2023-11-22T08:33:57.142Z"
   },
   {
    "duration": 7,
    "start_time": "2023-11-22T08:33:58.949Z"
   },
   {
    "duration": 8,
    "start_time": "2023-11-22T08:43:12.986Z"
   },
   {
    "duration": 9,
    "start_time": "2023-11-22T08:43:13.973Z"
   },
   {
    "duration": 3,
    "start_time": "2023-11-22T08:57:53.888Z"
   },
   {
    "duration": 7,
    "start_time": "2023-11-22T08:59:37.550Z"
   },
   {
    "duration": 5,
    "start_time": "2023-11-22T08:59:45.024Z"
   },
   {
    "duration": 8,
    "start_time": "2023-11-22T08:59:59.823Z"
   },
   {
    "duration": 24,
    "start_time": "2023-11-22T09:01:47.276Z"
   },
   {
    "duration": 151,
    "start_time": "2023-11-22T09:03:53.196Z"
   },
   {
    "duration": 3,
    "start_time": "2023-11-22T09:04:03.176Z"
   },
   {
    "duration": 72,
    "start_time": "2023-11-22T09:04:41.184Z"
   },
   {
    "duration": 55,
    "start_time": "2023-11-22T09:06:43.185Z"
   },
   {
    "duration": 14,
    "start_time": "2023-11-22T09:06:44.141Z"
   },
   {
    "duration": 59,
    "start_time": "2023-11-22T09:07:19.076Z"
   },
   {
    "duration": 13,
    "start_time": "2023-11-22T09:07:20.076Z"
   },
   {
    "duration": 58,
    "start_time": "2023-11-22T09:07:54.873Z"
   },
   {
    "duration": 295,
    "start_time": "2023-11-22T09:07:55.878Z"
   },
   {
    "duration": 10,
    "start_time": "2023-11-22T09:09:23.775Z"
   },
   {
    "duration": 6,
    "start_time": "2023-11-22T09:09:32.622Z"
   },
   {
    "duration": 6,
    "start_time": "2023-11-22T09:09:43.406Z"
   },
   {
    "duration": 4,
    "start_time": "2023-11-22T09:18:53.898Z"
   },
   {
    "duration": 3,
    "start_time": "2023-11-22T09:40:19.170Z"
   },
   {
    "duration": 4,
    "start_time": "2023-11-22T09:40:30.740Z"
   },
   {
    "duration": 4,
    "start_time": "2023-11-22T09:42:50.951Z"
   },
   {
    "duration": 3,
    "start_time": "2023-11-22T09:43:29.138Z"
   },
   {
    "duration": 4,
    "start_time": "2023-11-22T09:44:41.369Z"
   },
   {
    "duration": 4,
    "start_time": "2023-11-22T09:50:10.727Z"
   },
   {
    "duration": 4,
    "start_time": "2023-11-22T09:50:23.640Z"
   },
   {
    "duration": 3,
    "start_time": "2023-11-22T09:50:37.990Z"
   },
   {
    "duration": 4,
    "start_time": "2023-11-22T09:50:45.265Z"
   },
   {
    "duration": 3,
    "start_time": "2023-11-22T09:51:29.123Z"
   },
   {
    "duration": 4,
    "start_time": "2023-11-22T09:51:31.176Z"
   },
   {
    "duration": 4,
    "start_time": "2023-11-22T09:51:38.130Z"
   },
   {
    "duration": 3,
    "start_time": "2023-11-22T12:08:44.483Z"
   },
   {
    "duration": 2393,
    "start_time": "2023-11-22T12:08:55.819Z"
   },
   {
    "duration": 8,
    "start_time": "2023-11-22T12:10:04.579Z"
   },
   {
    "duration": 3,
    "start_time": "2023-11-22T12:15:37.081Z"
   },
   {
    "duration": 228,
    "start_time": "2023-11-22T12:15:38.311Z"
   },
   {
    "duration": 3,
    "start_time": "2023-11-22T12:15:39.686Z"
   },
   {
    "duration": 3183,
    "start_time": "2023-11-22T12:15:42.379Z"
   },
   {
    "duration": 9,
    "start_time": "2023-11-22T12:15:45.564Z"
   },
   {
    "duration": 30,
    "start_time": "2023-11-22T12:15:48.567Z"
   },
   {
    "duration": 32,
    "start_time": "2023-11-22T12:15:51.663Z"
   },
   {
    "duration": 243,
    "start_time": "2023-11-22T12:15:52.601Z"
   },
   {
    "duration": 5,
    "start_time": "2023-11-22T12:15:55.680Z"
   },
   {
    "duration": 13,
    "start_time": "2023-11-22T12:15:59.593Z"
   },
   {
    "duration": 2276,
    "start_time": "2023-11-22T12:17:55.640Z"
   },
   {
    "duration": 369,
    "start_time": "2023-11-22T12:17:57.918Z"
   },
   {
    "duration": 3,
    "start_time": "2023-11-22T12:17:59.648Z"
   },
   {
    "duration": 3170,
    "start_time": "2023-11-22T12:18:01.075Z"
   },
   {
    "duration": 15,
    "start_time": "2023-11-22T12:18:04.247Z"
   },
   {
    "duration": 32,
    "start_time": "2023-11-22T12:18:05.189Z"
   },
   {
    "duration": 28,
    "start_time": "2023-11-22T12:18:06.500Z"
   },
   {
    "duration": 238,
    "start_time": "2023-11-22T12:18:07.122Z"
   },
   {
    "duration": 4,
    "start_time": "2023-11-22T12:18:07.764Z"
   },
   {
    "duration": 11,
    "start_time": "2023-11-22T12:18:09.155Z"
   },
   {
    "duration": 2159,
    "start_time": "2023-11-22T12:18:10.126Z"
   },
   {
    "duration": 2285,
    "start_time": "2023-11-22T12:24:01.917Z"
   },
   {
    "duration": 376,
    "start_time": "2023-11-22T12:24:04.204Z"
   },
   {
    "duration": 3,
    "start_time": "2023-11-22T12:24:05.470Z"
   },
   {
    "duration": 3099,
    "start_time": "2023-11-22T12:24:06.743Z"
   },
   {
    "duration": 13,
    "start_time": "2023-11-22T12:24:09.844Z"
   },
   {
    "duration": 29,
    "start_time": "2023-11-22T12:24:09.859Z"
   },
   {
    "duration": 25,
    "start_time": "2023-11-22T12:24:09.890Z"
   },
   {
    "duration": 219,
    "start_time": "2023-11-22T12:24:10.797Z"
   },
   {
    "duration": 5,
    "start_time": "2023-11-22T12:24:11.715Z"
   },
   {
    "duration": 10,
    "start_time": "2023-11-22T12:24:13.536Z"
   },
   {
    "duration": 2445,
    "start_time": "2023-11-22T12:27:10.595Z"
   },
   {
    "duration": 393,
    "start_time": "2023-11-22T12:27:13.042Z"
   },
   {
    "duration": 3,
    "start_time": "2023-11-22T12:27:15.307Z"
   },
   {
    "duration": 3115,
    "start_time": "2023-11-22T12:27:16.696Z"
   },
   {
    "duration": 12,
    "start_time": "2023-11-22T12:27:24.765Z"
   },
   {
    "duration": 32,
    "start_time": "2023-11-22T12:27:26.866Z"
   },
   {
    "duration": 27,
    "start_time": "2023-11-22T12:27:28.841Z"
   },
   {
    "duration": 218,
    "start_time": "2023-11-22T12:27:30.755Z"
   },
   {
    "duration": 5,
    "start_time": "2023-11-22T12:27:31.479Z"
   },
   {
    "duration": 3,
    "start_time": "2023-11-22T12:27:43.081Z"
   },
   {
    "duration": 6,
    "start_time": "2023-11-22T12:28:30.876Z"
   },
   {
    "duration": 358575,
    "start_time": "2023-11-22T12:28:54.386Z"
   },
   {
    "duration": 219938,
    "start_time": "2023-11-22T12:35:18.251Z"
   },
   {
    "duration": 15,
    "start_time": "2023-11-22T12:39:39.465Z"
   },
   {
    "duration": 42,
    "start_time": "2023-11-22T12:40:53.056Z"
   },
   {
    "duration": 7,
    "start_time": "2023-11-22T12:40:54.052Z"
   },
   {
    "duration": 145,
    "start_time": "2023-11-22T12:42:31.111Z"
   },
   {
    "duration": 8,
    "start_time": "2023-11-22T12:42:34.505Z"
   },
   {
    "duration": 7,
    "start_time": "2023-11-22T12:42:35.082Z"
   },
   {
    "duration": 2,
    "start_time": "2023-11-22T12:43:24.219Z"
   },
   {
    "duration": 11,
    "start_time": "2023-11-22T12:43:46.587Z"
   },
   {
    "duration": 8,
    "start_time": "2023-11-22T12:43:53.907Z"
   },
   {
    "duration": 2,
    "start_time": "2023-11-22T12:43:55.718Z"
   },
   {
    "duration": 9,
    "start_time": "2023-11-22T12:43:56.176Z"
   },
   {
    "duration": 10,
    "start_time": "2023-11-22T12:44:15.287Z"
   },
   {
    "duration": 6,
    "start_time": "2023-11-22T12:44:18.711Z"
   },
   {
    "duration": 7,
    "start_time": "2023-11-22T12:44:21.284Z"
   },
   {
    "duration": 7,
    "start_time": "2023-11-22T12:44:56.960Z"
   },
   {
    "duration": 6,
    "start_time": "2023-11-22T12:45:03.686Z"
   },
   {
    "duration": 28,
    "start_time": "2023-11-22T12:47:04.472Z"
   },
   {
    "duration": 30,
    "start_time": "2023-11-22T12:47:34.201Z"
   },
   {
    "duration": 2,
    "start_time": "2023-11-22T12:52:53.133Z"
   },
   {
    "duration": 193,
    "start_time": "2023-11-22T13:24:07.871Z"
   },
   {
    "duration": 185,
    "start_time": "2023-11-22T13:54:15.380Z"
   },
   {
    "duration": 193,
    "start_time": "2023-11-22T13:54:43.004Z"
   },
   {
    "duration": 28,
    "start_time": "2023-11-22T14:00:58.560Z"
   },
   {
    "duration": 187,
    "start_time": "2023-11-22T14:02:32.785Z"
   },
   {
    "duration": 24,
    "start_time": "2023-11-22T14:02:40.610Z"
   },
   {
    "duration": 15,
    "start_time": "2023-11-22T14:02:53.726Z"
   },
   {
    "duration": 209,
    "start_time": "2023-11-22T14:04:10.101Z"
   },
   {
    "duration": 13,
    "start_time": "2023-11-22T14:05:09.710Z"
   },
   {
    "duration": 210,
    "start_time": "2023-11-22T14:06:08.110Z"
   },
   {
    "duration": 49,
    "start_time": "2023-11-22T14:07:03.364Z"
   },
   {
    "duration": 2,
    "start_time": "2023-11-22T14:08:12.717Z"
   },
   {
    "duration": 264,
    "start_time": "2023-11-22T14:08:14.592Z"
   },
   {
    "duration": 3185,
    "start_time": "2023-11-22T14:08:17.588Z"
   },
   {
    "duration": 3,
    "start_time": "2023-11-22T14:30:45.839Z"
   },
   {
    "duration": 3399,
    "start_time": "2023-11-22T15:01:46.671Z"
   },
   {
    "duration": 10,
    "start_time": "2023-11-22T15:02:02.613Z"
   },
   {
    "duration": 5,
    "start_time": "2023-11-22T15:09:25.217Z"
   },
   {
    "duration": 5,
    "start_time": "2023-11-22T15:09:29.980Z"
   },
   {
    "duration": 15,
    "start_time": "2023-11-22T19:16:44.720Z"
   },
   {
    "duration": 491,
    "start_time": "2023-11-22T19:16:46.884Z"
   },
   {
    "duration": 5070,
    "start_time": "2023-11-22T19:16:50.406Z"
   },
   {
    "duration": 6,
    "start_time": "2023-11-22T19:17:09.758Z"
   },
   {
    "duration": 6,
    "start_time": "2023-11-22T19:17:15.387Z"
   },
   {
    "duration": 17,
    "start_time": "2023-11-22T19:18:28.442Z"
   },
   {
    "duration": 1027,
    "start_time": "2023-11-22T19:18:30.076Z"
   },
   {
    "duration": 11028,
    "start_time": "2023-11-22T19:18:34.845Z"
   },
   {
    "duration": 5,
    "start_time": "2023-11-22T19:18:48.786Z"
   },
   {
    "duration": 7,
    "start_time": "2023-11-22T19:18:49.732Z"
   },
   {
    "duration": 8,
    "start_time": "2023-11-22T19:19:36.882Z"
   },
   {
    "duration": 24,
    "start_time": "2023-11-22T19:20:34.139Z"
   },
   {
    "duration": 1954,
    "start_time": "2023-11-22T19:20:35.961Z"
   },
   {
    "duration": 21234,
    "start_time": "2023-11-22T19:20:42.839Z"
   },
   {
    "duration": 5,
    "start_time": "2023-11-22T19:21:07.146Z"
   },
   {
    "duration": 7,
    "start_time": "2023-11-22T19:21:07.954Z"
   },
   {
    "duration": 42,
    "start_time": "2023-11-22T19:22:06.727Z"
   },
   {
    "duration": 3840,
    "start_time": "2023-11-22T19:22:09.237Z"
   },
   {
    "duration": 33612,
    "start_time": "2023-11-22T19:22:15.863Z"
   },
   {
    "duration": 6,
    "start_time": "2023-11-22T19:22:53.554Z"
   },
   {
    "duration": 10,
    "start_time": "2023-11-22T19:22:54.519Z"
   },
   {
    "duration": 4,
    "start_time": "2023-11-22T20:24:36.995Z"
   },
   {
    "duration": 4,
    "start_time": "2023-11-22T20:25:15.770Z"
   },
   {
    "duration": 52,
    "start_time": "2023-11-22T20:29:46.153Z"
   },
   {
    "duration": 4560,
    "start_time": "2023-11-22T20:29:47.853Z"
   },
   {
    "duration": 40840,
    "start_time": "2023-11-22T20:29:56.033Z"
   },
   {
    "duration": 6,
    "start_time": "2023-11-22T20:30:36.875Z"
   },
   {
    "duration": 10,
    "start_time": "2023-11-22T20:30:40.186Z"
   },
   {
    "duration": 2695,
    "start_time": "2023-11-23T09:17:23.449Z"
   },
   {
    "duration": 3,
    "start_time": "2023-11-23T09:17:26.146Z"
   },
   {
    "duration": 2267,
    "start_time": "2023-11-23T09:17:26.150Z"
   },
   {
    "duration": 13,
    "start_time": "2023-11-23T09:17:28.419Z"
   },
   {
    "duration": 31,
    "start_time": "2023-11-23T09:17:28.433Z"
   },
   {
    "duration": 26,
    "start_time": "2023-11-23T09:17:28.465Z"
   },
   {
    "duration": 235,
    "start_time": "2023-11-23T09:17:28.493Z"
   },
   {
    "duration": 6,
    "start_time": "2023-11-23T09:17:28.730Z"
   },
   {
    "duration": 7,
    "start_time": "2023-11-23T09:17:28.737Z"
   },
   {
    "duration": 327627,
    "start_time": "2023-11-23T09:17:28.760Z"
   },
   {
    "duration": 199780,
    "start_time": "2023-11-23T09:22:56.389Z"
   },
   {
    "duration": 3,
    "start_time": "2023-11-23T09:26:16.170Z"
   },
   {
    "duration": 55,
    "start_time": "2023-11-23T09:26:16.175Z"
   },
   {
    "duration": 84,
    "start_time": "2023-11-23T09:26:16.232Z"
   },
   {
    "duration": 36,
    "start_time": "2023-11-23T09:26:16.318Z"
   },
   {
    "duration": 33,
    "start_time": "2023-11-23T09:26:16.355Z"
   },
   {
    "duration": 74,
    "start_time": "2023-11-23T09:26:16.389Z"
   },
   {
    "duration": 4436,
    "start_time": "2023-11-23T09:26:16.464Z"
   },
   {
    "duration": 27857,
    "start_time": "2023-11-23T09:26:20.902Z"
   },
   {
    "duration": 6,
    "start_time": "2023-11-23T09:26:48.761Z"
   },
   {
    "duration": 11,
    "start_time": "2023-11-23T09:26:48.769Z"
   },
   {
    "duration": 47,
    "start_time": "2023-11-23T09:37:44.854Z"
   },
   {
    "duration": 6863,
    "start_time": "2023-11-23T09:41:07.467Z"
   },
   {
    "duration": 2704,
    "start_time": "2023-11-23T18:26:08.468Z"
   },
   {
    "duration": 3,
    "start_time": "2023-11-23T18:26:12.198Z"
   },
   {
    "duration": 2222,
    "start_time": "2023-11-23T18:26:13.448Z"
   },
   {
    "duration": 13,
    "start_time": "2023-11-23T18:26:17.593Z"
   },
   {
    "duration": 30,
    "start_time": "2023-11-23T18:26:18.096Z"
   },
   {
    "duration": 25,
    "start_time": "2023-11-23T18:26:19.133Z"
   },
   {
    "duration": 215,
    "start_time": "2023-11-23T18:26:19.585Z"
   },
   {
    "duration": 5,
    "start_time": "2023-11-23T18:26:20.256Z"
   },
   {
    "duration": 5,
    "start_time": "2023-11-23T18:26:21.566Z"
   },
   {
    "duration": 295615,
    "start_time": "2023-11-23T18:26:24.222Z"
   },
   {
    "duration": 182653,
    "start_time": "2023-11-23T18:31:19.839Z"
   },
   {
    "duration": 3,
    "start_time": "2023-11-23T18:34:22.493Z"
   },
   {
    "duration": 15,
    "start_time": "2023-11-23T18:34:22.498Z"
   },
   {
    "duration": 48,
    "start_time": "2023-11-23T18:36:05.323Z"
   },
   {
    "duration": 48,
    "start_time": "2023-11-23T18:37:15.550Z"
   },
   {
    "duration": 6516,
    "start_time": "2023-11-23T18:37:17.672Z"
   },
   {
    "duration": 40804,
    "start_time": "2023-11-23T18:37:27.067Z"
   },
   {
    "duration": 5,
    "start_time": "2023-11-23T18:38:07.872Z"
   },
   {
    "duration": 15,
    "start_time": "2023-11-23T18:38:07.878Z"
   },
   {
    "duration": 48,
    "start_time": "2023-11-23T19:36:43.661Z"
   },
   {
    "duration": 294,
    "start_time": "2023-11-23T19:37:28.157Z"
   },
   {
    "duration": 1390,
    "start_time": "2023-11-23T19:37:30.079Z"
   },
   {
    "duration": 98,
    "start_time": "2023-11-23T19:39:14.817Z"
   },
   {
    "duration": 424,
    "start_time": "2023-11-23T19:39:31.967Z"
   },
   {
    "duration": 2799,
    "start_time": "2023-11-23T19:39:33.783Z"
   },
   {
    "duration": 164,
    "start_time": "2023-11-23T19:39:36.584Z"
   },
   {
    "duration": 563,
    "start_time": "2023-11-23T19:39:51.423Z"
   },
   {
    "duration": 4233,
    "start_time": "2023-11-23T19:39:52.910Z"
   },
   {
    "duration": 225,
    "start_time": "2023-11-23T19:39:57.145Z"
   },
   {
    "duration": 935,
    "start_time": "2023-11-23T19:40:15.331Z"
   },
   {
    "duration": 8201,
    "start_time": "2023-11-23T19:40:16.268Z"
   },
   {
    "duration": 392,
    "start_time": "2023-11-23T19:40:24.471Z"
   },
   {
    "duration": 1052,
    "start_time": "2023-11-23T19:40:49.768Z"
   },
   {
    "duration": 11925,
    "start_time": "2023-11-23T19:40:50.822Z"
   },
   {
    "duration": 547,
    "start_time": "2023-11-23T19:41:02.748Z"
   },
   {
    "duration": 1293,
    "start_time": "2023-11-23T19:41:19.605Z"
   },
   {
    "duration": 16038,
    "start_time": "2023-11-23T19:41:21.303Z"
   },
   {
    "duration": 642,
    "start_time": "2023-11-23T19:41:37.343Z"
   },
   {
    "duration": 1645,
    "start_time": "2023-11-23T19:41:50.100Z"
   },
   {
    "duration": 27400,
    "start_time": "2023-11-23T19:41:51.747Z"
   },
   {
    "duration": 914,
    "start_time": "2023-11-23T19:42:19.149Z"
   },
   {
    "duration": 2071,
    "start_time": "2023-11-23T19:42:33.102Z"
   },
   {
    "duration": 39803,
    "start_time": "2023-11-23T19:42:36.454Z"
   },
   {
    "duration": 1248,
    "start_time": "2023-11-23T19:43:16.259Z"
   },
   {
    "duration": 2151,
    "start_time": "2023-11-23T19:43:31.773Z"
   },
   {
    "duration": 41385,
    "start_time": "2023-11-23T19:43:33.926Z"
   },
   {
    "duration": 1292,
    "start_time": "2023-11-23T19:44:15.312Z"
   },
   {
    "duration": 2444,
    "start_time": "2023-11-23T19:44:31.295Z"
   },
   {
    "duration": 53738,
    "start_time": "2023-11-23T19:44:33.887Z"
   },
   {
    "duration": 1502,
    "start_time": "2023-11-23T19:45:27.627Z"
   },
   {
    "duration": 47498,
    "start_time": "2023-11-23T19:47:53.331Z"
   },
   {
    "duration": 826391,
    "start_time": "2023-11-23T19:50:34.675Z"
   },
   {
    "duration": 6756,
    "start_time": "2023-11-23T20:26:44.816Z"
   },
   {
    "duration": 310984,
    "start_time": "2023-11-23T20:26:55.055Z"
   },
   {
    "duration": 5232,
    "start_time": "2023-11-23T20:32:58.280Z"
   },
   {
    "duration": 1849554,
    "start_time": "2023-11-23T20:33:34.399Z"
   },
   {
    "duration": 2796,
    "start_time": "2023-11-24T06:18:51.509Z"
   },
   {
    "duration": 43,
    "start_time": "2023-11-24T06:18:54.307Z"
   },
   {
    "duration": 3,
    "start_time": "2023-11-24T06:18:54.352Z"
   },
   {
    "duration": 3158,
    "start_time": "2023-11-24T06:18:54.356Z"
   },
   {
    "duration": 15,
    "start_time": "2023-11-24T06:18:57.516Z"
   },
   {
    "duration": 32,
    "start_time": "2023-11-24T06:18:57.532Z"
   },
   {
    "duration": 24,
    "start_time": "2023-11-24T06:18:57.565Z"
   },
   {
    "duration": 246,
    "start_time": "2023-11-24T06:18:57.590Z"
   },
   {
    "duration": 4,
    "start_time": "2023-11-24T06:18:57.837Z"
   },
   {
    "duration": 10,
    "start_time": "2023-11-24T06:18:57.844Z"
   },
   {
    "duration": 301007,
    "start_time": "2023-11-24T06:18:57.856Z"
   },
   {
    "duration": 186387,
    "start_time": "2023-11-24T06:23:58.864Z"
   },
   {
    "duration": 2,
    "start_time": "2023-11-24T06:27:05.253Z"
   },
   {
    "duration": 22,
    "start_time": "2023-11-24T06:27:05.256Z"
   },
   {
    "duration": 55,
    "start_time": "2023-11-24T06:27:05.280Z"
   },
   {
    "duration": 53,
    "start_time": "2023-11-24T06:27:05.337Z"
   },
   {
    "duration": 6609,
    "start_time": "2023-11-24T06:27:05.391Z"
   },
   {
    "duration": 41719,
    "start_time": "2023-11-24T06:27:12.001Z"
   },
   {
    "duration": 4,
    "start_time": "2023-11-24T06:27:53.721Z"
   },
   {
    "duration": 21,
    "start_time": "2023-11-24T06:27:53.727Z"
   },
   {
    "duration": 6671,
    "start_time": "2023-11-24T06:27:53.750Z"
   },
   {
    "duration": 300332,
    "start_time": "2023-11-24T06:28:00.423Z"
   },
   {
    "duration": 4985,
    "start_time": "2023-11-24T06:33:00.757Z"
   },
   {
    "duration": 259777,
    "start_time": "2023-11-24T06:33:05.743Z"
   },
   {
    "duration": 1793531,
    "start_time": "2023-11-24T06:37:25.522Z"
   },
   {
    "duration": 563,
    "start_time": "2023-11-24T07:40:03.608Z"
   },
   {
    "duration": 4,
    "start_time": "2023-11-24T07:41:46.493Z"
   },
   {
    "duration": 400,
    "start_time": "2023-11-24T07:42:40.555Z"
   },
   {
    "duration": 117,
    "start_time": "2023-11-24T08:00:15.825Z"
   },
   {
    "duration": 14,
    "start_time": "2023-11-24T08:00:41.009Z"
   },
   {
    "duration": 41651,
    "start_time": "2023-11-24T08:03:32.464Z"
   },
   {
    "duration": 12,
    "start_time": "2023-11-24T08:04:19.168Z"
   },
   {
    "duration": 3,
    "start_time": "2023-11-24T08:12:20.105Z"
   },
   {
    "duration": 187307,
    "start_time": "2023-11-24T08:23:08.814Z"
   },
   {
    "duration": 11,
    "start_time": "2023-11-24T08:38:55.695Z"
   },
   {
    "duration": 2537,
    "start_time": "2023-11-24T16:37:20.877Z"
   },
   {
    "duration": 41,
    "start_time": "2023-11-24T16:37:23.415Z"
   },
   {
    "duration": 4,
    "start_time": "2023-11-24T16:37:23.457Z"
   },
   {
    "duration": 10,
    "start_time": "2023-11-24T16:37:23.463Z"
   },
   {
    "duration": 2218,
    "start_time": "2023-11-24T16:37:23.475Z"
   },
   {
    "duration": 13,
    "start_time": "2023-11-24T16:37:25.694Z"
   },
   {
    "duration": 24,
    "start_time": "2023-11-24T16:37:25.708Z"
   },
   {
    "duration": 21,
    "start_time": "2023-11-24T16:37:25.734Z"
   },
   {
    "duration": 218,
    "start_time": "2023-11-24T16:37:25.756Z"
   },
   {
    "duration": 6,
    "start_time": "2023-11-24T16:37:25.976Z"
   },
   {
    "duration": 5,
    "start_time": "2023-11-24T16:37:25.984Z"
   },
   {
    "duration": 256938,
    "start_time": "2023-11-24T16:37:25.990Z"
   },
   {
    "duration": 167263,
    "start_time": "2023-11-24T16:41:42.930Z"
   },
   {
    "duration": 2,
    "start_time": "2023-11-24T16:44:30.194Z"
   },
   {
    "duration": 38,
    "start_time": "2023-11-24T16:44:30.197Z"
   },
   {
    "duration": 51,
    "start_time": "2023-11-24T16:44:30.236Z"
   },
   {
    "duration": 73,
    "start_time": "2023-11-24T16:44:30.288Z"
   },
   {
    "duration": 6345,
    "start_time": "2023-11-24T16:44:30.362Z"
   },
   {
    "duration": 182985,
    "start_time": "2023-11-24T16:44:36.708Z"
   },
   {
    "duration": 40588,
    "start_time": "2023-11-24T16:47:39.694Z"
   },
   {
    "duration": 101,
    "start_time": "2023-11-24T16:48:20.284Z"
   },
   {
    "duration": 2,
    "start_time": "2023-11-24T16:48:20.386Z"
   },
   {
    "duration": 274432,
    "start_time": "2023-11-24T16:48:20.389Z"
   },
   {
    "duration": 3,
    "start_time": "2023-11-24T16:52:54.823Z"
   },
   {
    "duration": 163,
    "start_time": "2023-11-24T16:52:54.828Z"
   },
   {
    "duration": 0,
    "start_time": "2023-11-24T16:52:54.993Z"
   },
   {
    "duration": 0,
    "start_time": "2023-11-24T16:52:54.994Z"
   },
   {
    "duration": 0,
    "start_time": "2023-11-24T16:52:54.995Z"
   },
   {
    "duration": 0,
    "start_time": "2023-11-24T16:52:54.996Z"
   },
   {
    "duration": 0,
    "start_time": "2023-11-24T16:52:54.997Z"
   },
   {
    "duration": 373,
    "start_time": "2023-11-24T17:32:13.495Z"
   },
   {
    "duration": 371,
    "start_time": "2023-11-24T17:32:39.357Z"
   },
   {
    "duration": 490,
    "start_time": "2023-11-24T17:33:59.415Z"
   },
   {
    "duration": 491,
    "start_time": "2023-11-24T17:35:22.104Z"
   },
   {
    "duration": 392765,
    "start_time": "2023-11-24T17:35:37.132Z"
   },
   {
    "duration": 182136,
    "start_time": "2023-11-24T17:43:38.170Z"
   },
   {
    "duration": 39359,
    "start_time": "2023-11-24T17:46:51.826Z"
   },
   {
    "duration": 40734,
    "start_time": "2023-11-24T17:47:36.761Z"
   },
   {
    "duration": 12,
    "start_time": "2023-11-24T17:48:22.004Z"
   },
   {
    "duration": 396026,
    "start_time": "2023-11-24T17:49:15.323Z"
   },
   {
    "duration": 3412,
    "start_time": "2023-11-24T17:56:01.172Z"
   },
   {
    "duration": 2920,
    "start_time": "2023-11-25T06:37:27.078Z"
   },
   {
    "duration": 43,
    "start_time": "2023-11-25T06:37:30.000Z"
   },
   {
    "duration": 6,
    "start_time": "2023-11-25T06:37:30.045Z"
   },
   {
    "duration": 25,
    "start_time": "2023-11-25T06:37:30.053Z"
   },
   {
    "duration": 3422,
    "start_time": "2023-11-25T06:37:30.080Z"
   },
   {
    "duration": 16,
    "start_time": "2023-11-25T06:37:33.504Z"
   },
   {
    "duration": 42,
    "start_time": "2023-11-25T06:37:33.522Z"
   },
   {
    "duration": 26,
    "start_time": "2023-11-25T06:37:33.565Z"
   },
   {
    "duration": 238,
    "start_time": "2023-11-25T06:37:33.593Z"
   },
   {
    "duration": 5,
    "start_time": "2023-11-25T06:37:33.834Z"
   },
   {
    "duration": 8,
    "start_time": "2023-11-25T06:37:33.841Z"
   },
   {
    "duration": 409520,
    "start_time": "2023-11-25T06:37:33.851Z"
   },
   {
    "duration": 255320,
    "start_time": "2023-11-25T06:44:23.373Z"
   },
   {
    "duration": 2,
    "start_time": "2023-11-25T06:48:38.695Z"
   },
   {
    "duration": 27,
    "start_time": "2023-11-25T06:48:38.699Z"
   },
   {
    "duration": 70,
    "start_time": "2023-11-25T06:48:38.727Z"
   },
   {
    "duration": 78,
    "start_time": "2023-11-25T06:48:38.799Z"
   },
   {
    "duration": 7188,
    "start_time": "2023-11-25T06:48:38.879Z"
   },
   {
    "duration": 195451,
    "start_time": "2023-11-25T06:48:46.069Z"
   },
   {
    "duration": 43493,
    "start_time": "2023-11-25T06:52:01.521Z"
   },
   {
    "duration": 105,
    "start_time": "2023-11-25T06:52:45.016Z"
   },
   {
    "duration": 2,
    "start_time": "2023-11-25T06:52:45.123Z"
   },
   {
    "duration": 469121,
    "start_time": "2023-11-25T06:52:45.127Z"
   },
   {
    "duration": 4,
    "start_time": "2023-11-25T07:00:34.250Z"
   },
   {
    "duration": 170,
    "start_time": "2023-11-25T07:00:34.256Z"
   },
   {
    "duration": 0,
    "start_time": "2023-11-25T07:00:34.428Z"
   },
   {
    "duration": 1,
    "start_time": "2023-11-25T07:00:34.429Z"
   },
   {
    "duration": 0,
    "start_time": "2023-11-25T07:00:34.431Z"
   },
   {
    "duration": 0,
    "start_time": "2023-11-25T07:00:34.433Z"
   },
   {
    "duration": 0,
    "start_time": "2023-11-25T07:00:34.434Z"
   },
   {
    "duration": 2889,
    "start_time": "2023-11-25T13:56:42.838Z"
   },
   {
    "duration": 45,
    "start_time": "2023-11-25T13:56:45.729Z"
   },
   {
    "duration": 4,
    "start_time": "2023-11-25T13:56:45.776Z"
   },
   {
    "duration": 5,
    "start_time": "2023-11-25T13:56:45.781Z"
   },
   {
    "duration": 2371,
    "start_time": "2023-11-25T13:56:45.787Z"
   },
   {
    "duration": 16,
    "start_time": "2023-11-25T13:56:48.160Z"
   },
   {
    "duration": 34,
    "start_time": "2023-11-25T13:56:48.178Z"
   },
   {
    "duration": 29,
    "start_time": "2023-11-25T13:56:48.213Z"
   },
   {
    "duration": 267,
    "start_time": "2023-11-25T13:56:48.244Z"
   },
   {
    "duration": 5,
    "start_time": "2023-11-25T13:56:48.513Z"
   },
   {
    "duration": 19,
    "start_time": "2023-11-25T13:56:48.519Z"
   },
   {
    "duration": 344639,
    "start_time": "2023-11-25T13:56:48.539Z"
   },
   {
    "duration": 212994,
    "start_time": "2023-11-25T14:02:33.180Z"
   },
   {
    "duration": 2,
    "start_time": "2023-11-25T14:06:06.176Z"
   },
   {
    "duration": 28,
    "start_time": "2023-11-25T14:06:06.180Z"
   },
   {
    "duration": 47,
    "start_time": "2023-11-25T14:06:06.210Z"
   },
   {
    "duration": 57,
    "start_time": "2023-11-25T14:06:06.259Z"
   },
   {
    "duration": 7418,
    "start_time": "2023-11-25T14:06:06.318Z"
   },
   {
    "duration": 205869,
    "start_time": "2023-11-25T14:06:13.737Z"
   },
   {
    "duration": 48608,
    "start_time": "2023-11-25T14:09:39.608Z"
   },
   {
    "duration": 15,
    "start_time": "2023-11-25T14:10:28.217Z"
   },
   {
    "duration": 3,
    "start_time": "2023-11-25T14:10:28.234Z"
   },
   {
    "duration": 459842,
    "start_time": "2023-11-25T14:10:28.240Z"
   },
   {
    "duration": 4,
    "start_time": "2023-11-25T14:18:08.083Z"
   },
   {
    "duration": 184,
    "start_time": "2023-11-25T14:18:08.089Z"
   },
   {
    "duration": 0,
    "start_time": "2023-11-25T14:18:08.275Z"
   },
   {
    "duration": 0,
    "start_time": "2023-11-25T14:18:08.276Z"
   },
   {
    "duration": 0,
    "start_time": "2023-11-25T14:18:08.278Z"
   },
   {
    "duration": 0,
    "start_time": "2023-11-25T14:18:08.278Z"
   },
   {
    "duration": 0,
    "start_time": "2023-11-25T14:18:08.280Z"
   },
   {
    "duration": 3667,
    "start_time": "2023-11-25T14:27:00.357Z"
   },
   {
    "duration": 295636,
    "start_time": "2023-11-25T14:27:43.456Z"
   },
   {
    "duration": 94822,
    "start_time": "2023-11-25T14:34:02.509Z"
   },
   {
    "duration": 2431,
    "start_time": "2023-11-25T14:42:46.921Z"
   },
   {
    "duration": 2937,
    "start_time": "2023-11-25T14:42:58.733Z"
   },
   {
    "duration": 3316,
    "start_time": "2023-11-25T14:43:09.351Z"
   },
   {
    "duration": 3811,
    "start_time": "2023-11-25T14:43:22.162Z"
   },
   {
    "duration": 4300,
    "start_time": "2023-11-25T14:43:33.840Z"
   },
   {
    "duration": 4771,
    "start_time": "2023-11-25T14:43:48.025Z"
   },
   {
    "duration": 4652,
    "start_time": "2023-11-25T14:44:02.818Z"
   },
   {
    "duration": 832,
    "start_time": "2023-11-25T14:44:15.848Z"
   },
   {
    "duration": 5081,
    "start_time": "2023-11-25T14:44:23.650Z"
   },
   {
    "duration": 5564,
    "start_time": "2023-11-25T14:44:35.994Z"
   },
   {
    "duration": 6132,
    "start_time": "2023-11-25T14:44:50.263Z"
   },
   {
    "duration": 6571,
    "start_time": "2023-11-25T14:45:02.771Z"
   },
   {
    "duration": 8154,
    "start_time": "2023-11-25T14:45:47.556Z"
   },
   {
    "duration": 6446,
    "start_time": "2023-11-25T14:46:12.595Z"
   },
   {
    "duration": 7061,
    "start_time": "2023-11-25T14:46:28.982Z"
   },
   {
    "duration": 7532,
    "start_time": "2023-11-25T14:46:44.889Z"
   },
   {
    "duration": 11643,
    "start_time": "2023-11-25T14:47:04.018Z"
   },
   {
    "duration": 19784,
    "start_time": "2023-11-25T14:47:24.480Z"
   },
   {
    "duration": 41793,
    "start_time": "2023-11-25T14:47:54.405Z"
   },
   {
    "duration": 60151,
    "start_time": "2023-11-25T14:48:47.475Z"
   },
   {
    "duration": 60707,
    "start_time": "2023-11-25T14:50:42.733Z"
   },
   {
    "duration": 73105,
    "start_time": "2023-11-25T14:52:02.518Z"
   },
   {
    "duration": 81313,
    "start_time": "2023-11-25T14:54:28.795Z"
   },
   {
    "duration": 72875,
    "start_time": "2023-11-25T14:56:08.544Z"
   },
   {
    "duration": 72529,
    "start_time": "2023-11-25T14:57:29.279Z"
   },
   {
    "duration": 76465,
    "start_time": "2023-11-25T14:59:07.798Z"
   },
   {
    "duration": 101496,
    "start_time": "2023-11-25T15:01:17.927Z"
   },
   {
    "duration": 246503,
    "start_time": "2023-11-25T15:03:20.174Z"
   },
   {
    "duration": 18,
    "start_time": "2023-11-25T15:07:40.031Z"
   },
   {
    "duration": 17,
    "start_time": "2023-11-25T15:11:58.848Z"
   },
   {
    "duration": 15444274,
    "start_time": "2023-11-25T15:15:57.533Z"
   },
   {
    "duration": 6,
    "start_time": "2023-11-25T19:33:37.247Z"
   },
   {
    "duration": 4,
    "start_time": "2023-11-25T19:38:00.692Z"
   },
   {
    "duration": 134824,
    "start_time": "2023-11-25T19:38:12.406Z"
   },
   {
    "duration": 173485,
    "start_time": "2023-11-25T19:40:55.063Z"
   },
   {
    "duration": 189930,
    "start_time": "2023-11-25T19:43:58.637Z"
   },
   {
    "duration": 297869,
    "start_time": "2023-11-25T19:47:24.274Z"
   },
   {
    "duration": 2,
    "start_time": "2023-11-25T19:54:40.946Z"
   },
   {
    "duration": 4,
    "start_time": "2023-11-25T20:03:33.579Z"
   },
   {
    "duration": 9,
    "start_time": "2023-11-25T20:03:59.268Z"
   },
   {
    "duration": 4,
    "start_time": "2023-11-25T20:03:59.433Z"
   },
   {
    "duration": 7,
    "start_time": "2023-11-25T20:04:14.745Z"
   },
   {
    "duration": 14,
    "start_time": "2023-11-25T20:04:48.101Z"
   },
   {
    "duration": 4,
    "start_time": "2023-11-25T20:06:23.200Z"
   },
   {
    "duration": 30,
    "start_time": "2023-11-25T20:06:25.942Z"
   },
   {
    "duration": 5,
    "start_time": "2023-11-25T20:15:03.849Z"
   },
   {
    "duration": 506630,
    "start_time": "2023-11-25T20:15:05.899Z"
   },
   {
    "duration": 5,
    "start_time": "2023-11-25T20:23:39.620Z"
   },
   {
    "duration": 615528,
    "start_time": "2023-11-25T20:23:40.701Z"
   },
   {
    "duration": 110880,
    "start_time": "2023-11-25T20:53:01.282Z"
   },
   {
    "duration": 50738,
    "start_time": "2023-11-25T20:55:40.378Z"
   },
   {
    "duration": 2179407,
    "start_time": "2023-11-25T20:57:59.893Z"
   },
   {
    "duration": 2602,
    "start_time": "2023-11-26T05:49:09.150Z"
   },
   {
    "duration": 41,
    "start_time": "2023-11-26T05:49:11.754Z"
   },
   {
    "duration": 3,
    "start_time": "2023-11-26T05:49:11.797Z"
   },
   {
    "duration": 3,
    "start_time": "2023-11-26T05:49:11.802Z"
   },
   {
    "duration": 10,
    "start_time": "2023-11-26T05:49:11.806Z"
   },
   {
    "duration": 2237,
    "start_time": "2023-11-26T05:49:11.817Z"
   },
   {
    "duration": 13,
    "start_time": "2023-11-26T05:49:14.056Z"
   },
   {
    "duration": 29,
    "start_time": "2023-11-26T05:49:14.071Z"
   },
   {
    "duration": 32,
    "start_time": "2023-11-26T05:49:14.101Z"
   },
   {
    "duration": 233,
    "start_time": "2023-11-26T05:49:14.136Z"
   },
   {
    "duration": 5,
    "start_time": "2023-11-26T05:49:14.371Z"
   },
   {
    "duration": 17,
    "start_time": "2023-11-26T05:49:14.377Z"
   },
   {
    "duration": 294427,
    "start_time": "2023-11-26T05:49:14.396Z"
   },
   {
    "duration": 186604,
    "start_time": "2023-11-26T05:54:08.824Z"
   },
   {
    "duration": 2,
    "start_time": "2023-11-26T05:57:15.430Z"
   },
   {
    "duration": 19,
    "start_time": "2023-11-26T05:57:15.434Z"
   },
   {
    "duration": 55,
    "start_time": "2023-11-26T05:57:15.455Z"
   },
   {
    "duration": 51,
    "start_time": "2023-11-26T05:57:15.512Z"
   },
   {
    "duration": 6913,
    "start_time": "2023-11-26T05:57:15.565Z"
   },
   {
    "duration": 190255,
    "start_time": "2023-11-26T05:57:22.479Z"
   },
   {
    "duration": 44198,
    "start_time": "2023-11-26T06:00:32.736Z"
   },
   {
    "duration": 97,
    "start_time": "2023-11-26T06:01:16.936Z"
   },
   {
    "duration": 2,
    "start_time": "2023-11-26T06:01:17.035Z"
   },
   {
    "duration": 410176,
    "start_time": "2023-11-26T06:01:17.039Z"
   },
   {
    "duration": 6,
    "start_time": "2023-11-26T06:08:07.217Z"
   },
   {
    "duration": 3343,
    "start_time": "2023-11-26T06:08:07.225Z"
   },
   {
    "duration": 3,
    "start_time": "2023-11-26T06:08:10.570Z"
   },
   {
    "duration": 85007,
    "start_time": "2023-11-26T06:08:10.576Z"
   },
   {
    "duration": 3,
    "start_time": "2023-11-26T06:09:35.584Z"
   },
   {
    "duration": 29,
    "start_time": "2023-11-26T06:09:35.589Z"
   },
   {
    "duration": 5,
    "start_time": "2023-11-26T06:09:35.620Z"
   },
   {
    "duration": 540259,
    "start_time": "2023-11-26T06:09:35.626Z"
   },
   {
    "duration": 98390,
    "start_time": "2023-11-26T06:18:35.887Z"
   },
   {
    "duration": 46757,
    "start_time": "2023-11-26T06:20:14.279Z"
   },
   {
    "duration": 1975908,
    "start_time": "2023-11-26T06:21:01.038Z"
   },
   {
    "duration": 169438,
    "start_time": "2023-11-26T06:53:56.947Z"
   },
   {
    "duration": 268238,
    "start_time": "2023-11-26T06:56:46.386Z"
   },
   {
    "duration": 266683,
    "start_time": "2023-11-26T07:01:14.626Z"
   },
   {
    "duration": 3,
    "start_time": "2023-11-26T07:05:41.311Z"
   },
   {
    "duration": 1803510,
    "start_time": "2023-11-26T07:05:41.315Z"
   },
   {
    "duration": 75,
    "start_time": "2023-11-26T07:35:44.828Z"
   },
   {
    "duration": 0,
    "start_time": "2023-11-26T07:35:44.905Z"
   },
   {
    "duration": 16,
    "start_time": "2023-11-26T08:17:23.146Z"
   },
   {
    "duration": 161,
    "start_time": "2023-11-26T08:24:35.770Z"
   },
   {
    "duration": 19,
    "start_time": "2023-11-26T08:24:59.593Z"
   },
   {
    "duration": 12,
    "start_time": "2023-11-26T08:25:15.744Z"
   },
   {
    "duration": 13,
    "start_time": "2023-11-26T08:27:40.021Z"
   },
   {
    "duration": 14,
    "start_time": "2023-11-26T08:28:56.699Z"
   },
   {
    "duration": 12,
    "start_time": "2023-11-26T08:29:19.413Z"
   },
   {
    "duration": 12,
    "start_time": "2023-11-26T08:29:27.050Z"
   },
   {
    "duration": 12,
    "start_time": "2023-11-26T08:29:39.619Z"
   },
   {
    "duration": 13,
    "start_time": "2023-11-26T08:29:46.433Z"
   },
   {
    "duration": 73,
    "start_time": "2023-11-26T08:30:49.244Z"
   },
   {
    "duration": 11,
    "start_time": "2023-11-26T08:30:58.150Z"
   },
   {
    "duration": 11,
    "start_time": "2023-11-26T08:31:33.152Z"
   },
   {
    "duration": 10,
    "start_time": "2023-11-26T08:31:42.878Z"
   },
   {
    "duration": 11,
    "start_time": "2023-11-26T08:32:33.734Z"
   },
   {
    "duration": 6,
    "start_time": "2023-11-26T08:33:19.048Z"
   },
   {
    "duration": 11,
    "start_time": "2023-11-26T08:34:41.806Z"
   },
   {
    "duration": 11,
    "start_time": "2023-11-26T08:35:51.903Z"
   },
   {
    "duration": 12,
    "start_time": "2023-11-26T08:36:15.469Z"
   },
   {
    "duration": 12,
    "start_time": "2023-11-26T08:36:34.828Z"
   },
   {
    "duration": 46,
    "start_time": "2023-11-26T08:37:02.847Z"
   },
   {
    "duration": 7,
    "start_time": "2023-11-26T08:37:13.657Z"
   },
   {
    "duration": 2590,
    "start_time": "2023-11-26T08:37:55.806Z"
   },
   {
    "duration": 43,
    "start_time": "2023-11-26T08:37:58.398Z"
   },
   {
    "duration": 3,
    "start_time": "2023-11-26T08:37:58.443Z"
   },
   {
    "duration": 25,
    "start_time": "2023-11-26T08:37:58.448Z"
   },
   {
    "duration": 13,
    "start_time": "2023-11-26T08:37:58.474Z"
   },
   {
    "duration": 2251,
    "start_time": "2023-11-26T08:37:58.489Z"
   },
   {
    "duration": 16,
    "start_time": "2023-11-26T08:38:00.742Z"
   },
   {
    "duration": 87,
    "start_time": "2023-11-26T08:38:00.760Z"
   },
   {
    "duration": 69,
    "start_time": "2023-11-26T08:38:00.849Z"
   },
   {
    "duration": 258,
    "start_time": "2023-11-26T08:38:00.921Z"
   },
   {
    "duration": 5,
    "start_time": "2023-11-26T08:38:01.180Z"
   },
   {
    "duration": 45,
    "start_time": "2023-11-26T08:38:01.186Z"
   },
   {
    "duration": 305048,
    "start_time": "2023-11-26T08:38:01.233Z"
   },
   {
    "duration": 194517,
    "start_time": "2023-11-26T08:43:06.283Z"
   },
   {
    "duration": 2,
    "start_time": "2023-11-26T08:46:20.802Z"
   },
   {
    "duration": 28,
    "start_time": "2023-11-26T08:46:20.805Z"
   },
   {
    "duration": 56,
    "start_time": "2023-11-26T08:46:20.834Z"
   },
   {
    "duration": 54,
    "start_time": "2023-11-26T08:46:20.891Z"
   },
   {
    "duration": 6806,
    "start_time": "2023-11-26T08:46:20.946Z"
   },
   {
    "duration": 187771,
    "start_time": "2023-11-26T08:46:27.753Z"
   },
   {
    "duration": 44396,
    "start_time": "2023-11-26T08:49:35.526Z"
   },
   {
    "duration": 14,
    "start_time": "2023-11-26T08:50:19.925Z"
   },
   {
    "duration": 2,
    "start_time": "2023-11-26T08:50:19.941Z"
   },
   {
    "duration": 427711,
    "start_time": "2023-11-26T08:50:19.945Z"
   },
   {
    "duration": 3,
    "start_time": "2023-11-26T08:57:27.658Z"
   },
   {
    "duration": 3465,
    "start_time": "2023-11-26T08:57:27.663Z"
   },
   {
    "duration": 2,
    "start_time": "2023-11-26T08:57:31.130Z"
   },
   {
    "duration": 87982,
    "start_time": "2023-11-26T08:57:31.136Z"
   },
   {
    "duration": 4,
    "start_time": "2023-11-26T08:58:59.121Z"
   },
   {
    "duration": 33,
    "start_time": "2023-11-26T08:58:59.127Z"
   },
   {
    "duration": 3,
    "start_time": "2023-11-26T08:58:59.162Z"
   },
   {
    "duration": 581762,
    "start_time": "2023-11-26T08:58:59.167Z"
   },
   {
    "duration": 104263,
    "start_time": "2023-11-26T09:08:40.931Z"
   },
   {
    "duration": 49628,
    "start_time": "2023-11-26T09:10:25.196Z"
   },
   {
    "duration": 2032899,
    "start_time": "2023-11-26T09:11:14.826Z"
   },
   {
    "duration": 16,
    "start_time": "2023-11-26T09:45:07.727Z"
   },
   {
    "duration": 35,
    "start_time": "2023-11-26T09:45:07.745Z"
   },
   {
    "duration": 22,
    "start_time": "2023-11-26T09:45:07.782Z"
   },
   {
    "duration": 4,
    "start_time": "2023-11-26T09:45:07.806Z"
   },
   {
    "duration": 6880,
    "start_time": "2023-11-26T09:45:07.811Z"
   },
   {
    "duration": 180147,
    "start_time": "2023-11-26T09:45:14.693Z"
   },
   {
    "duration": 283739,
    "start_time": "2023-11-26T09:48:14.842Z"
   },
   {
    "duration": 281822,
    "start_time": "2023-11-26T09:52:58.583Z"
   },
   {
    "duration": 4,
    "start_time": "2023-11-26T09:57:40.407Z"
   },
   {
    "duration": 465,
    "start_time": "2023-11-26T09:57:40.413Z"
   },
   {
    "duration": 5,
    "start_time": "2023-11-26T10:07:42.120Z"
   },
   {
    "duration": 5,
    "start_time": "2023-11-26T10:08:01.948Z"
   },
   {
    "duration": 10,
    "start_time": "2023-11-26T10:08:15.879Z"
   },
   {
    "duration": 9,
    "start_time": "2023-11-26T10:10:07.738Z"
   },
   {
    "duration": 6,
    "start_time": "2023-11-26T10:10:25.866Z"
   },
   {
    "duration": 10,
    "start_time": "2023-11-26T10:10:26.654Z"
   },
   {
    "duration": 11,
    "start_time": "2023-11-26T10:13:00.494Z"
   },
   {
    "duration": 6,
    "start_time": "2023-11-26T10:13:31.961Z"
   },
   {
    "duration": 10,
    "start_time": "2023-11-26T10:13:34.365Z"
   },
   {
    "duration": 7357,
    "start_time": "2023-11-26T10:14:09.852Z"
   },
   {
    "duration": 15,
    "start_time": "2023-11-26T10:15:15.234Z"
   },
   {
    "duration": 7,
    "start_time": "2023-11-26T10:15:17.425Z"
   },
   {
    "duration": 11,
    "start_time": "2023-11-26T10:15:20.253Z"
   },
   {
    "duration": 10,
    "start_time": "2023-11-26T10:15:21.558Z"
   },
   {
    "duration": 5,
    "start_time": "2023-11-26T10:15:22.805Z"
   },
   {
    "duration": 9,
    "start_time": "2023-11-26T10:15:23.945Z"
   },
   {
    "duration": 1314,
    "start_time": "2023-11-26T10:15:47.655Z"
   },
   {
    "duration": 25192,
    "start_time": "2023-11-26T10:16:04.143Z"
   },
   {
    "duration": 7857,
    "start_time": "2023-11-26T10:16:33.229Z"
   },
   {
    "duration": 8046,
    "start_time": "2023-11-26T10:16:41.088Z"
   },
   {
    "duration": 4,
    "start_time": "2023-11-26T10:16:56.679Z"
   },
   {
    "duration": 468586,
    "start_time": "2023-11-26T10:17:23.954Z"
   },
   {
    "duration": 96,
    "start_time": "2023-11-26T10:32:17.589Z"
   },
   {
    "duration": 3,
    "start_time": "2023-11-26T10:41:03.921Z"
   },
   {
    "duration": 118,
    "start_time": "2023-11-26T10:42:52.613Z"
   },
   {
    "duration": 9,
    "start_time": "2023-11-26T10:43:08.867Z"
   },
   {
    "duration": 5,
    "start_time": "2023-11-26T10:43:48.724Z"
   },
   {
    "duration": 6,
    "start_time": "2023-11-26T10:44:01.797Z"
   },
   {
    "duration": 6,
    "start_time": "2023-11-26T10:44:36.494Z"
   },
   {
    "duration": 6,
    "start_time": "2023-11-26T10:45:00.684Z"
   },
   {
    "duration": 10,
    "start_time": "2023-11-26T10:53:56.113Z"
   },
   {
    "duration": 3,
    "start_time": "2023-11-26T10:54:09.217Z"
   },
   {
    "duration": 10,
    "start_time": "2023-11-26T10:54:41.248Z"
   },
   {
    "duration": 13,
    "start_time": "2023-11-26T10:56:41.370Z"
   },
   {
    "duration": 10,
    "start_time": "2023-11-26T10:56:51.422Z"
   },
   {
    "duration": 11,
    "start_time": "2023-11-26T10:58:19.778Z"
   },
   {
    "duration": 12,
    "start_time": "2023-11-26T10:59:00.721Z"
   },
   {
    "duration": 4,
    "start_time": "2023-11-26T11:54:03.826Z"
   },
   {
    "duration": 8,
    "start_time": "2023-11-26T11:54:12.810Z"
   },
   {
    "duration": 3,
    "start_time": "2023-11-26T11:54:35.828Z"
   },
   {
    "duration": 9,
    "start_time": "2023-11-26T11:54:38.532Z"
   },
   {
    "duration": 9,
    "start_time": "2023-11-26T11:55:46.568Z"
   },
   {
    "duration": 18,
    "start_time": "2023-11-26T11:56:37.821Z"
   },
   {
    "duration": 4,
    "start_time": "2023-11-26T11:56:44.271Z"
   },
   {
    "duration": 15,
    "start_time": "2023-11-26T11:56:45.050Z"
   },
   {
    "duration": 11,
    "start_time": "2023-11-26T11:57:11.326Z"
   },
   {
    "duration": 12,
    "start_time": "2023-11-26T11:59:26.306Z"
   },
   {
    "duration": 14,
    "start_time": "2023-11-26T12:00:10.867Z"
   },
   {
    "duration": 85,
    "start_time": "2023-11-26T12:08:39.197Z"
   },
   {
    "duration": 3,
    "start_time": "2023-11-26T12:08:50.796Z"
   },
   {
    "duration": 11,
    "start_time": "2023-11-26T12:08:51.749Z"
   },
   {
    "duration": 101,
    "start_time": "2023-11-26T12:17:56.310Z"
   },
   {
    "duration": 4,
    "start_time": "2023-11-26T12:18:22.589Z"
   },
   {
    "duration": 28,
    "start_time": "2023-11-26T12:18:32.822Z"
   },
   {
    "duration": 82,
    "start_time": "2023-11-26T12:22:09.463Z"
   },
   {
    "duration": 3,
    "start_time": "2023-11-26T12:22:28.829Z"
   },
   {
    "duration": 30,
    "start_time": "2023-11-26T12:22:36.393Z"
   },
   {
    "duration": 4,
    "start_time": "2023-11-26T12:26:32.517Z"
   },
   {
    "duration": 1888321,
    "start_time": "2023-11-26T12:26:36.394Z"
   },
   {
    "duration": 7,
    "start_time": "2023-11-26T12:59:52.318Z"
   },
   {
    "duration": 949040,
    "start_time": "2023-11-26T13:02:00.655Z"
   },
   {
    "duration": 7,
    "start_time": "2023-11-26T13:18:01.785Z"
   },
   {
    "duration": 973167,
    "start_time": "2023-11-26T13:18:50.988Z"
   },
   {
    "duration": 7,
    "start_time": "2023-11-26T14:10:52.842Z"
   },
   {
    "duration": 71,
    "start_time": "2023-11-26T14:24:03.575Z"
   },
   {
    "duration": 5,
    "start_time": "2023-11-26T14:24:41.591Z"
   },
   {
    "duration": 3,
    "start_time": "2023-11-26T14:24:44.811Z"
   },
   {
    "duration": 38,
    "start_time": "2023-11-26T14:24:47.638Z"
   },
   {
    "duration": 5,
    "start_time": "2023-11-26T14:26:21.152Z"
   },
   {
    "duration": 4,
    "start_time": "2023-11-26T14:26:24.143Z"
   },
   {
    "duration": 40,
    "start_time": "2023-11-26T14:26:30.636Z"
   },
   {
    "duration": 6,
    "start_time": "2023-11-26T14:28:26.009Z"
   },
   {
    "duration": 11,
    "start_time": "2023-11-26T14:29:04.770Z"
   },
   {
    "duration": 2105,
    "start_time": "2023-11-26T14:30:46.286Z"
   },
   {
    "duration": 54,
    "start_time": "2023-11-26T14:32:46.305Z"
   },
   {
    "duration": 35,
    "start_time": "2023-11-26T14:34:13.921Z"
   },
   {
    "duration": 12,
    "start_time": "2023-11-26T14:35:36.323Z"
   },
   {
    "duration": 11,
    "start_time": "2023-11-26T14:35:44.033Z"
   },
   {
    "duration": 30,
    "start_time": "2023-11-26T14:36:17.545Z"
   },
   {
    "duration": 12,
    "start_time": "2023-11-26T14:36:38.144Z"
   },
   {
    "duration": 10,
    "start_time": "2023-11-26T14:37:14.698Z"
   },
   {
    "duration": 26,
    "start_time": "2023-11-26T14:37:41.773Z"
   },
   {
    "duration": 31,
    "start_time": "2023-11-26T14:38:02.515Z"
   },
   {
    "duration": 11,
    "start_time": "2023-11-26T14:38:32.554Z"
   },
   {
    "duration": 5,
    "start_time": "2023-11-26T14:38:40.875Z"
   },
   {
    "duration": 9,
    "start_time": "2023-11-26T14:38:46.045Z"
   },
   {
    "duration": 27,
    "start_time": "2023-11-26T14:39:35.643Z"
   },
   {
    "duration": 46,
    "start_time": "2023-11-26T14:40:58.573Z"
   },
   {
    "duration": 5,
    "start_time": "2023-11-26T14:41:20.003Z"
   },
   {
    "duration": 9,
    "start_time": "2023-11-26T14:41:20.833Z"
   },
   {
    "duration": 5,
    "start_time": "2023-11-26T14:43:04.494Z"
   },
   {
    "duration": 9,
    "start_time": "2023-11-26T14:43:05.246Z"
   },
   {
    "duration": 9,
    "start_time": "2023-11-26T14:48:48.426Z"
   },
   {
    "duration": 3,
    "start_time": "2023-11-26T14:50:06.029Z"
   },
   {
    "duration": 9,
    "start_time": "2023-11-26T14:50:18.517Z"
   },
   {
    "duration": 9,
    "start_time": "2023-11-26T14:50:49.817Z"
   },
   {
    "duration": 11,
    "start_time": "2023-11-26T14:53:40.525Z"
   },
   {
    "duration": 15,
    "start_time": "2023-11-26T14:54:48.121Z"
   },
   {
    "duration": 10,
    "start_time": "2023-11-26T14:56:17.742Z"
   },
   {
    "duration": 4,
    "start_time": "2023-11-26T14:56:25.761Z"
   },
   {
    "duration": 4,
    "start_time": "2023-11-26T14:57:15.126Z"
   },
   {
    "duration": 25,
    "start_time": "2023-11-26T15:16:34.762Z"
   },
   {
    "duration": 12,
    "start_time": "2023-11-26T15:18:18.709Z"
   },
   {
    "duration": 10,
    "start_time": "2023-11-26T15:25:08.788Z"
   },
   {
    "duration": 5,
    "start_time": "2023-11-26T15:25:09.001Z"
   },
   {
    "duration": 11,
    "start_time": "2023-11-26T15:25:24.845Z"
   },
   {
    "duration": 12,
    "start_time": "2023-11-26T15:25:41.056Z"
   },
   {
    "duration": 22,
    "start_time": "2023-11-26T15:25:55.768Z"
   },
   {
    "duration": 4,
    "start_time": "2023-11-26T15:25:57.491Z"
   },
   {
    "duration": 9,
    "start_time": "2023-11-26T15:25:58.380Z"
   },
   {
    "duration": 3,
    "start_time": "2023-11-26T15:26:09.046Z"
   },
   {
    "duration": 6,
    "start_time": "2023-11-26T15:26:11.584Z"
   },
   {
    "duration": 17,
    "start_time": "2023-11-26T15:26:16.800Z"
   },
   {
    "duration": 45,
    "start_time": "2023-11-26T15:27:22.572Z"
   },
   {
    "duration": 31,
    "start_time": "2023-11-26T15:27:58.550Z"
   },
   {
    "duration": 44,
    "start_time": "2023-11-26T15:28:10.175Z"
   },
   {
    "duration": 46,
    "start_time": "2023-11-26T15:28:42.247Z"
   },
   {
    "duration": 27,
    "start_time": "2023-11-26T15:28:42.399Z"
   },
   {
    "duration": 10,
    "start_time": "2023-11-26T15:29:16.694Z"
   },
   {
    "duration": 49,
    "start_time": "2023-11-26T15:29:51.075Z"
   },
   {
    "duration": 9,
    "start_time": "2023-11-26T15:29:52.757Z"
   },
   {
    "duration": 10,
    "start_time": "2023-11-26T15:30:11.566Z"
   },
   {
    "duration": 45,
    "start_time": "2023-11-26T15:30:28.094Z"
   },
   {
    "duration": 9,
    "start_time": "2023-11-26T15:30:29.316Z"
   },
   {
    "duration": 47,
    "start_time": "2023-11-26T15:30:57.796Z"
   },
   {
    "duration": 10,
    "start_time": "2023-11-26T15:31:14.637Z"
   },
   {
    "duration": 45,
    "start_time": "2023-11-26T15:32:04.480Z"
   },
   {
    "duration": 9,
    "start_time": "2023-11-26T15:32:05.615Z"
   },
   {
    "duration": 28,
    "start_time": "2023-11-26T15:32:06.809Z"
   },
   {
    "duration": 1879,
    "start_time": "2023-11-26T15:33:18.547Z"
   },
   {
    "duration": 5,
    "start_time": "2023-11-26T15:35:16.894Z"
   },
   {
    "duration": 3,
    "start_time": "2023-11-26T15:35:18.821Z"
   },
   {
    "duration": 58,
    "start_time": "2023-11-26T15:35:19.954Z"
   },
   {
    "duration": 60,
    "start_time": "2023-11-26T15:35:40.650Z"
   },
   {
    "duration": 3,
    "start_time": "2023-11-26T15:36:13.702Z"
   },
   {
    "duration": 4,
    "start_time": "2023-11-26T15:36:14.772Z"
   },
   {
    "duration": 58,
    "start_time": "2023-11-26T15:36:15.417Z"
   },
   {
    "duration": 14,
    "start_time": "2023-11-26T15:36:55.291Z"
   },
   {
    "duration": 4,
    "start_time": "2023-11-26T15:37:26.313Z"
   },
   {
    "duration": 4,
    "start_time": "2023-11-26T15:37:27.739Z"
   },
   {
    "duration": 13,
    "start_time": "2023-11-26T15:37:28.627Z"
   },
   {
    "duration": 13,
    "start_time": "2023-11-26T15:37:38.157Z"
   },
   {
    "duration": 4,
    "start_time": "2023-11-26T15:38:17.534Z"
   },
   {
    "duration": 3,
    "start_time": "2023-11-26T15:38:18.284Z"
   },
   {
    "duration": 12,
    "start_time": "2023-11-26T15:38:19.035Z"
   },
   {
    "duration": 4,
    "start_time": "2023-11-26T15:38:36.597Z"
   },
   {
    "duration": 4,
    "start_time": "2023-11-26T15:38:37.289Z"
   },
   {
    "duration": 11,
    "start_time": "2023-11-26T15:38:37.928Z"
   },
   {
    "duration": 4,
    "start_time": "2023-11-26T15:39:27.819Z"
   },
   {
    "duration": 4,
    "start_time": "2023-11-26T15:39:28.896Z"
   },
   {
    "duration": 1116,
    "start_time": "2023-11-26T15:39:30.094Z"
   },
   {
    "duration": 4,
    "start_time": "2023-11-26T15:40:27.218Z"
   },
   {
    "duration": 3,
    "start_time": "2023-11-26T15:40:28.141Z"
   },
   {
    "duration": 2407,
    "start_time": "2023-11-26T15:40:28.890Z"
   },
   {
    "duration": 4,
    "start_time": "2023-11-26T15:42:41.871Z"
   },
   {
    "duration": 3,
    "start_time": "2023-11-26T15:42:42.663Z"
   },
   {
    "duration": 1015,
    "start_time": "2023-11-26T15:42:43.322Z"
   },
   {
    "duration": 4,
    "start_time": "2023-11-26T15:43:16.791Z"
   },
   {
    "duration": 3,
    "start_time": "2023-11-26T15:43:17.727Z"
   },
   {
    "duration": 1070,
    "start_time": "2023-11-26T15:43:18.474Z"
   },
   {
    "duration": 4,
    "start_time": "2023-11-26T15:44:43.241Z"
   },
   {
    "duration": 4,
    "start_time": "2023-11-26T15:44:44.090Z"
   },
   {
    "duration": 1377,
    "start_time": "2023-11-26T15:44:44.690Z"
   },
   {
    "duration": 4,
    "start_time": "2023-11-26T15:46:21.447Z"
   },
   {
    "duration": 4,
    "start_time": "2023-11-26T15:46:22.471Z"
   },
   {
    "duration": 1441,
    "start_time": "2023-11-26T15:46:23.047Z"
   },
   {
    "duration": 2,
    "start_time": "2023-11-26T15:47:39.444Z"
   },
   {
    "duration": 5,
    "start_time": "2023-11-26T15:48:24.995Z"
   },
   {
    "duration": 4,
    "start_time": "2023-11-26T15:48:26.009Z"
   },
   {
    "duration": 2,
    "start_time": "2023-11-26T15:48:27.179Z"
   },
   {
    "duration": 554427,
    "start_time": "2023-11-26T15:48:28.366Z"
   },
   {
    "duration": 11,
    "start_time": "2023-11-26T16:06:51.171Z"
   },
   {
    "duration": 7,
    "start_time": "2023-11-26T16:07:13.433Z"
   },
   {
    "duration": 549289,
    "start_time": "2023-11-26T16:09:09.461Z"
   },
   {
    "duration": 5,
    "start_time": "2023-11-26T16:21:03.855Z"
   },
   {
    "duration": 5,
    "start_time": "2023-11-26T16:21:13.824Z"
   },
   {
    "duration": 2,
    "start_time": "2023-11-26T16:21:17.317Z"
   },
   {
    "duration": 6170186,
    "start_time": "2023-11-26T16:21:18.632Z"
   },
   {
    "duration": 10,
    "start_time": "2023-11-26T18:14:55.731Z"
   },
   {
    "duration": 5,
    "start_time": "2023-11-26T18:21:46.508Z"
   },
   {
    "duration": 4,
    "start_time": "2023-11-26T18:21:49.602Z"
   },
   {
    "duration": 3,
    "start_time": "2023-11-26T18:21:50.667Z"
   },
   {
    "duration": 37,
    "start_time": "2023-11-26T18:21:52.423Z"
   },
   {
    "duration": 13,
    "start_time": "2023-11-26T18:22:28.404Z"
   },
   {
    "duration": 2,
    "start_time": "2023-11-26T18:22:36.850Z"
   },
   {
    "duration": 4,
    "start_time": "2023-11-26T18:23:08.163Z"
   },
   {
    "duration": 4,
    "start_time": "2023-11-26T18:23:08.816Z"
   },
   {
    "duration": 2,
    "start_time": "2023-11-26T18:23:09.502Z"
   },
   {
    "duration": 35,
    "start_time": "2023-11-26T18:23:11.837Z"
   },
   {
    "duration": 5,
    "start_time": "2023-11-26T18:23:43.717Z"
   },
   {
    "duration": 4,
    "start_time": "2023-11-26T18:23:44.285Z"
   },
   {
    "duration": 2,
    "start_time": "2023-11-26T18:23:44.925Z"
   },
   {
    "duration": 35,
    "start_time": "2023-11-26T18:23:45.659Z"
   },
   {
    "duration": 5,
    "start_time": "2023-11-26T18:25:06.323Z"
   },
   {
    "duration": 3,
    "start_time": "2023-11-26T18:25:06.933Z"
   },
   {
    "duration": 2,
    "start_time": "2023-11-26T18:25:07.771Z"
   },
   {
    "duration": 523443,
    "start_time": "2023-11-26T18:25:08.757Z"
   },
   {
    "duration": 8,
    "start_time": "2023-11-26T18:34:15.867Z"
   },
   {
    "duration": 6,
    "start_time": "2023-11-26T18:35:12.033Z"
   },
   {
    "duration": 535288,
    "start_time": "2023-11-26T18:35:19.140Z"
   },
   {
    "duration": 8,
    "start_time": "2023-11-26T18:45:05.290Z"
   },
   {
    "duration": 5,
    "start_time": "2023-11-26T18:46:20.319Z"
   },
   {
    "duration": 784,
    "start_time": "2023-11-26T18:46:29.945Z"
   },
   {
    "duration": 4,
    "start_time": "2023-11-26T18:50:32.285Z"
   },
   {
    "duration": 105787,
    "start_time": "2023-11-26T18:50:42.605Z"
   },
   {
    "duration": 53389,
    "start_time": "2023-11-26T18:52:59.895Z"
   },
   {
    "duration": 10291,
    "start_time": "2023-11-26T18:54:52.466Z"
   },
   {
    "duration": 3108,
    "start_time": "2023-11-26T18:55:19.188Z"
   },
   {
    "duration": 25517,
    "start_time": "2023-11-26T18:55:36.614Z"
   },
   {
    "duration": 49465,
    "start_time": "2023-11-26T18:56:33.261Z"
   },
   {
    "duration": 52804,
    "start_time": "2023-11-26T18:57:45.798Z"
   },
   {
    "duration": 5339,
    "start_time": "2023-11-26T18:59:19.386Z"
   },
   {
    "duration": 41371,
    "start_time": "2023-11-26T18:59:58.513Z"
   },
   {
    "duration": 53482,
    "start_time": "2023-11-26T19:01:03.350Z"
   },
   {
    "duration": 53123,
    "start_time": "2023-11-26T19:02:11.105Z"
   },
   {
    "duration": 20156,
    "start_time": "2023-11-26T19:03:27.049Z"
   },
   {
    "duration": 28219,
    "start_time": "2023-11-26T19:04:08.429Z"
   },
   {
    "duration": 28858,
    "start_time": "2023-11-26T19:04:58.973Z"
   },
   {
    "duration": 602228,
    "start_time": "2023-11-26T19:05:44.481Z"
   },
   {
    "duration": 1994,
    "start_time": "2023-11-26T20:16:46.168Z"
   },
   {
    "duration": 536713,
    "start_time": "2023-11-26T20:16:51.585Z"
   },
   {
    "duration": 2627,
    "start_time": "2023-11-26T20:36:58.762Z"
   },
   {
    "duration": 577107,
    "start_time": "2023-11-26T20:37:05.269Z"
   },
   {
    "duration": 1451,
    "start_time": "2023-11-26T20:53:02.446Z"
   },
   {
    "duration": 500322,
    "start_time": "2023-11-26T20:53:05.786Z"
   },
   {
    "duration": 3777,
    "start_time": "2023-11-27T06:10:05.949Z"
   },
   {
    "duration": 43,
    "start_time": "2023-11-27T06:10:09.728Z"
   },
   {
    "duration": 3,
    "start_time": "2023-11-27T06:10:09.773Z"
   },
   {
    "duration": 4,
    "start_time": "2023-11-27T06:10:09.778Z"
   },
   {
    "duration": 3,
    "start_time": "2023-11-27T06:10:11.678Z"
   },
   {
    "duration": 2282,
    "start_time": "2023-11-27T06:10:14.154Z"
   },
   {
    "duration": 14,
    "start_time": "2023-11-27T06:10:16.437Z"
   },
   {
    "duration": 52,
    "start_time": "2023-11-27T06:10:16.452Z"
   },
   {
    "duration": 25,
    "start_time": "2023-11-27T06:10:18.520Z"
   },
   {
    "duration": 221,
    "start_time": "2023-11-27T06:10:19.535Z"
   },
   {
    "duration": 4,
    "start_time": "2023-11-27T06:10:20.141Z"
   },
   {
    "duration": 5,
    "start_time": "2023-11-27T06:10:24.768Z"
   },
   {
    "duration": 293429,
    "start_time": "2023-11-27T06:10:25.580Z"
   },
   {
    "duration": 184983,
    "start_time": "2023-11-27T06:15:34.760Z"
   },
   {
    "duration": 3,
    "start_time": "2023-11-27T06:18:49.991Z"
   },
   {
    "duration": 15,
    "start_time": "2023-11-27T06:18:51.873Z"
   },
   {
    "duration": 52,
    "start_time": "2023-11-27T06:18:57.859Z"
   },
   {
    "duration": 42,
    "start_time": "2023-11-27T06:21:02.352Z"
   },
   {
    "duration": 6623,
    "start_time": "2023-11-27T06:21:04.541Z"
   },
   {
    "duration": 235416,
    "start_time": "2023-11-27T06:26:06.858Z"
   },
   {
    "duration": 43644,
    "start_time": "2023-11-27T06:53:13.215Z"
   },
   {
    "duration": 13,
    "start_time": "2023-11-27T06:54:12.399Z"
   },
   {
    "duration": 144554,
    "start_time": "2023-11-27T07:08:50.811Z"
   },
   {
    "duration": 3,
    "start_time": "2023-11-27T07:15:12.877Z"
   },
   {
    "duration": 159,
    "start_time": "2023-11-27T07:15:53.527Z"
   },
   {
    "duration": 43148,
    "start_time": "2023-11-27T07:24:00.619Z"
   },
   {
    "duration": 431441,
    "start_time": "2023-11-27T07:25:15.372Z"
   },
   {
    "duration": 89101,
    "start_time": "2023-11-27T07:32:52.298Z"
   },
   {
    "duration": 160,
    "start_time": "2023-11-27T07:34:41.212Z"
   },
   {
    "duration": 1895074,
    "start_time": "2023-11-27T07:34:54.294Z"
   },
   {
    "duration": 4,
    "start_time": "2023-11-27T08:15:18.834Z"
   },
   {
    "duration": 6968,
    "start_time": "2023-11-27T08:15:21.624Z"
   },
   {
    "duration": 758983,
    "start_time": "2023-11-27T08:16:37.258Z"
   },
   {
    "duration": 676916,
    "start_time": "2023-11-27T08:44:04.003Z"
   },
   {
    "duration": 699792,
    "start_time": "2023-11-27T08:58:49.766Z"
   },
   {
    "duration": 103506,
    "start_time": "2023-11-27T09:11:36.020Z"
   },
   {
    "duration": 55418,
    "start_time": "2023-11-27T09:33:16.147Z"
   },
   {
    "duration": 6592,
    "start_time": "2023-11-27T09:36:05.209Z"
   },
   {
    "duration": 682131,
    "start_time": "2023-11-27T09:36:14.448Z"
   },
   {
    "duration": 113156,
    "start_time": "2023-11-27T09:50:18.055Z"
   },
   {
    "duration": 54289,
    "start_time": "2023-11-27T09:52:25.871Z"
   },
   {
    "duration": 4,
    "start_time": "2023-11-27T10:08:49.237Z"
   },
   {
    "duration": 23,
    "start_time": "2023-11-27T10:14:01.854Z"
   },
   {
    "duration": 3,
    "start_time": "2023-11-27T10:14:50.779Z"
   },
   {
    "duration": 3,
    "start_time": "2023-11-27T10:14:52.624Z"
   },
   {
    "duration": 12,
    "start_time": "2023-11-27T10:14:54.027Z"
   },
   {
    "duration": 16,
    "start_time": "2023-11-27T10:15:45.733Z"
   },
   {
    "duration": 19,
    "start_time": "2023-11-27T10:16:13.667Z"
   },
   {
    "duration": 51994,
    "start_time": "2023-11-27T10:17:27.093Z"
   },
   {
    "duration": 4,
    "start_time": "2023-11-27T10:21:24.235Z"
   },
   {
    "duration": 10,
    "start_time": "2023-11-27T10:21:36.712Z"
   },
   {
    "duration": 3,
    "start_time": "2023-11-27T10:23:02.056Z"
   },
   {
    "duration": 4,
    "start_time": "2023-11-27T10:23:05.364Z"
   },
   {
    "duration": 3,
    "start_time": "2023-11-27T10:26:27.705Z"
   },
   {
    "duration": 4,
    "start_time": "2023-11-27T10:26:29.225Z"
   },
   {
    "duration": 14,
    "start_time": "2023-11-27T10:26:30.346Z"
   },
   {
    "duration": 680512,
    "start_time": "2023-11-27T10:26:53.601Z"
   },
   {
    "duration": 16,
    "start_time": "2023-11-27T10:41:22.609Z"
   },
   {
    "duration": 4,
    "start_time": "2023-11-27T10:42:15.410Z"
   },
   {
    "duration": 3,
    "start_time": "2023-11-27T10:43:54.616Z"
   },
   {
    "duration": 14,
    "start_time": "2023-11-27T10:43:55.799Z"
   },
   {
    "duration": 4,
    "start_time": "2023-11-27T10:44:19.937Z"
   },
   {
    "duration": 3,
    "start_time": "2023-11-27T10:44:40.544Z"
   },
   {
    "duration": 3,
    "start_time": "2023-11-27T10:44:41.387Z"
   },
   {
    "duration": 4,
    "start_time": "2023-11-27T10:44:42.465Z"
   },
   {
    "duration": 4,
    "start_time": "2023-11-27T10:44:52.497Z"
   },
   {
    "duration": 10,
    "start_time": "2023-11-27T10:44:53.235Z"
   },
   {
    "duration": 4790,
    "start_time": "2023-11-27T10:46:23.509Z"
   },
   {
    "duration": 1959357,
    "start_time": "2023-11-27T10:46:33.204Z"
   },
   {
    "duration": 27,
    "start_time": "2023-11-27T11:22:51.584Z"
   },
   {
    "duration": 14,
    "start_time": "2023-11-27T11:23:18.493Z"
   },
   {
    "duration": 16,
    "start_time": "2023-11-27T11:23:27.783Z"
   },
   {
    "duration": 2005254,
    "start_time": "2023-11-27T11:23:55.961Z"
   },
   {
    "duration": 3,
    "start_time": "2023-11-27T11:59:23.054Z"
   },
   {
    "duration": 3,
    "start_time": "2023-11-27T11:59:31.884Z"
   },
   {
    "duration": 48,
    "start_time": "2023-11-27T16:13:08.277Z"
   },
   {
    "duration": 7,
    "start_time": "2023-11-27T16:14:06.032Z"
   },
   {
    "duration": 7,
    "start_time": "2023-11-27T16:14:14.509Z"
   },
   {
    "duration": 2828,
    "start_time": "2023-11-27T16:16:04.371Z"
   },
   {
    "duration": 2347,
    "start_time": "2023-11-27T16:16:10.820Z"
   },
   {
    "duration": 16,
    "start_time": "2023-11-27T16:16:18.638Z"
   },
   {
    "duration": 32,
    "start_time": "2023-11-27T16:16:25.887Z"
   },
   {
    "duration": 27,
    "start_time": "2023-11-27T16:16:28.477Z"
   },
   {
    "duration": 227,
    "start_time": "2023-11-27T16:16:29.797Z"
   },
   {
    "duration": 5,
    "start_time": "2023-11-27T16:16:31.186Z"
   },
   {
    "duration": 5,
    "start_time": "2023-11-27T16:16:35.885Z"
   },
   {
    "duration": 339325,
    "start_time": "2023-11-27T16:16:38.862Z"
   },
   {
    "duration": 213295,
    "start_time": "2023-11-27T16:22:23.980Z"
   },
   {
    "duration": 12,
    "start_time": "2023-11-27T16:26:06.978Z"
   },
   {
    "duration": 49,
    "start_time": "2023-11-27T16:26:12.015Z"
   },
   {
    "duration": 44,
    "start_time": "2023-11-27T16:26:29.203Z"
   },
   {
    "duration": 6848,
    "start_time": "2023-11-27T16:26:32.085Z"
   },
   {
    "duration": 43478,
    "start_time": "2023-11-27T16:27:33.485Z"
   },
   {
    "duration": 423093,
    "start_time": "2023-11-27T16:28:32.019Z"
   },
   {
    "duration": 1829139,
    "start_time": "2023-11-27T16:37:09.115Z"
   },
   {
    "duration": 4,
    "start_time": "2023-11-27T17:11:15.269Z"
   },
   {
    "duration": 2,
    "start_time": "2023-11-27T17:11:17.311Z"
   },
   {
    "duration": 131,
    "start_time": "2023-11-27T17:11:23.666Z"
   },
   {
    "duration": 4,
    "start_time": "2023-11-27T17:12:04.482Z"
   },
   {
    "duration": 3,
    "start_time": "2023-11-27T17:12:16.839Z"
   },
   {
    "duration": 14,
    "start_time": "2023-11-27T17:12:20.057Z"
   },
   {
    "duration": 6352801,
    "start_time": "2023-11-27T17:12:20.914Z"
   },
   {
    "duration": 3,
    "start_time": "2023-11-27T19:00:27.683Z"
   },
   {
    "duration": 12,
    "start_time": "2023-11-27T19:00:33.305Z"
   },
   {
    "duration": 4864,
    "start_time": "2023-11-27T19:01:27.665Z"
   },
   {
    "duration": 1941755,
    "start_time": "2023-11-27T19:01:36.626Z"
   },
   {
    "duration": 5,
    "start_time": "2023-11-27T19:51:52.764Z"
   },
   {
    "duration": 3209375,
    "start_time": "2023-11-27T19:52:08.554Z"
   },
   {
    "duration": 0,
    "start_time": "2023-11-27T20:45:37.931Z"
   },
   {
    "duration": 5,
    "start_time": "2023-11-27T20:46:07.399Z"
   },
   {
    "duration": 9,
    "start_time": "2023-11-27T20:46:33.136Z"
   },
   {
    "duration": 2546,
    "start_time": "2023-11-27T20:49:33.930Z"
   },
   {
    "duration": 3,
    "start_time": "2023-11-27T20:51:17.193Z"
   },
   {
    "duration": 344,
    "start_time": "2023-11-27T20:51:42.485Z"
   },
   {
    "duration": 268,
    "start_time": "2023-11-27T20:53:30.604Z"
   },
   {
    "duration": 268,
    "start_time": "2023-11-27T20:54:03.424Z"
   },
   {
    "duration": 268,
    "start_time": "2023-11-27T20:55:01.436Z"
   },
   {
    "duration": 89,
    "start_time": "2023-11-27T20:55:02.875Z"
   },
   {
    "duration": 13,
    "start_time": "2023-11-27T20:57:16.640Z"
   },
   {
    "duration": 282,
    "start_time": "2023-11-27T20:59:13.627Z"
   },
   {
    "duration": 421638,
    "start_time": "2023-11-27T20:59:44.034Z"
   },
   {
    "duration": 5,
    "start_time": "2023-11-27T21:06:56.616Z"
   },
   {
    "duration": 2584,
    "start_time": "2023-11-27T21:07:05.074Z"
   },
   {
    "duration": 257,
    "start_time": "2023-11-27T21:07:20.533Z"
   },
   {
    "duration": 15,
    "start_time": "2023-11-27T21:07:21.927Z"
   },
   {
    "duration": 270,
    "start_time": "2023-11-27T21:07:30.749Z"
   },
   {
    "duration": 8,
    "start_time": "2023-11-27T21:10:42.102Z"
   },
   {
    "duration": 10,
    "start_time": "2023-11-27T21:11:07.470Z"
   },
   {
    "duration": 19,
    "start_time": "2023-11-27T21:15:26.440Z"
   },
   {
    "duration": 22,
    "start_time": "2023-11-27T21:22:16.103Z"
   },
   {
    "duration": 15,
    "start_time": "2023-11-27T21:25:21.474Z"
   },
   {
    "duration": 17,
    "start_time": "2023-11-27T21:25:36.009Z"
   },
   {
    "duration": 17,
    "start_time": "2023-11-27T21:27:01.451Z"
   },
   {
    "duration": 1270,
    "start_time": "2023-11-27T21:27:09.888Z"
   },
   {
    "duration": 5,
    "start_time": "2023-11-27T21:27:17.707Z"
   },
   {
    "duration": 4,
    "start_time": "2023-11-27T21:28:28.415Z"
   },
   {
    "duration": 6,
    "start_time": "2023-11-27T21:29:03.149Z"
   },
   {
    "duration": 30,
    "start_time": "2023-11-27T21:33:04.404Z"
   },
   {
    "duration": 27,
    "start_time": "2023-11-27T21:37:00.298Z"
   },
   {
    "duration": 4,
    "start_time": "2023-11-27T21:38:50.551Z"
   },
   {
    "duration": 753986,
    "start_time": "2023-11-27T21:38:56.806Z"
   },
   {
    "duration": 4,
    "start_time": "2023-11-27T21:51:46.370Z"
   },
   {
    "duration": 3,
    "start_time": "2023-11-27T21:51:53.774Z"
   },
   {
    "duration": 2478,
    "start_time": "2023-11-27T21:51:57.938Z"
   },
   {
    "duration": 234,
    "start_time": "2023-11-27T21:52:10.312Z"
   },
   {
    "duration": 13,
    "start_time": "2023-11-27T21:52:12.443Z"
   },
   {
    "duration": 4,
    "start_time": "2023-11-27T21:58:01.269Z"
   },
   {
    "duration": 7400531,
    "start_time": "2023-11-27T21:58:06.536Z"
   },
   {
    "duration": 281,
    "start_time": "2023-11-28T05:22:50.407Z"
   },
   {
    "duration": 8,
    "start_time": "2023-11-28T06:27:19.920Z"
   },
   {
    "duration": 9,
    "start_time": "2023-11-28T06:30:37.336Z"
   },
   {
    "duration": 5,
    "start_time": "2023-11-28T06:46:12.318Z"
   },
   {
    "duration": 12859716,
    "start_time": "2023-11-28T06:46:15.365Z"
   },
   {
    "duration": 13,
    "start_time": "2023-11-28T10:24:12.130Z"
   },
   {
    "duration": 25,
    "start_time": "2023-11-28T11:36:32.003Z"
   },
   {
    "duration": 23,
    "start_time": "2023-11-28T11:36:43.222Z"
   },
   {
    "duration": 8,
    "start_time": "2023-11-28T11:36:55.504Z"
   },
   {
    "duration": 31,
    "start_time": "2023-11-28T11:59:07.343Z"
   },
   {
    "duration": 3767,
    "start_time": "2023-11-28T11:59:10.024Z"
   },
   {
    "duration": 3805,
    "start_time": "2023-11-28T11:59:44.140Z"
   },
   {
    "duration": 3799,
    "start_time": "2023-11-28T12:00:54.207Z"
   },
   {
    "duration": 1193657,
    "start_time": "2023-11-28T12:03:37.315Z"
   },
   {
    "duration": 28027,
    "start_time": "2023-11-28T12:24:50.335Z"
   },
   {
    "duration": 51325,
    "start_time": "2023-11-28T12:26:27.957Z"
   },
   {
    "duration": 73012,
    "start_time": "2023-11-28T12:27:57.934Z"
   },
   {
    "duration": 74607,
    "start_time": "2023-11-28T12:29:42.333Z"
   },
   {
    "duration": 183776,
    "start_time": "2023-11-28T12:31:59.930Z"
   },
   {
    "duration": 601498,
    "start_time": "2023-11-28T13:06:18.811Z"
   },
   {
    "duration": 1114245,
    "start_time": "2023-11-28T13:26:45.257Z"
   },
   {
    "duration": 14,
    "start_time": "2023-11-28T14:15:24.732Z"
   },
   {
    "duration": 14444454,
    "start_time": "2023-11-28T14:15:51.523Z"
   },
   {
    "duration": 9,
    "start_time": "2023-11-28T18:18:06.064Z"
   },
   {
    "duration": 14,
    "start_time": "2023-11-28T18:20:58.706Z"
   },
   {
    "duration": 4754,
    "start_time": "2023-11-28T20:49:35.223Z"
   },
   {
    "duration": 1987712,
    "start_time": "2023-11-28T20:49:57.534Z"
   },
   {
    "duration": 869,
    "start_time": "2023-11-28T21:23:29.342Z"
   },
   {
    "duration": 48,
    "start_time": "2023-11-28T21:23:43.587Z"
   },
   {
    "duration": 6535,
    "start_time": "2023-11-28T21:23:47.041Z"
   },
   {
    "duration": 437,
    "start_time": "2023-11-28T21:24:06.067Z"
   },
   {
    "duration": 2755,
    "start_time": "2023-11-29T06:15:50.363Z"
   },
   {
    "duration": 2130,
    "start_time": "2023-11-29T06:16:07.219Z"
   },
   {
    "duration": 332,
    "start_time": "2023-11-29T06:17:31.773Z"
   },
   {
    "duration": 3348,
    "start_time": "2023-11-29T06:17:45.165Z"
   },
   {
    "duration": 13,
    "start_time": "2023-11-29T06:17:48.515Z"
   },
   {
    "duration": 30,
    "start_time": "2023-11-29T06:17:48.529Z"
   },
   {
    "duration": 25,
    "start_time": "2023-11-29T06:17:50.449Z"
   },
   {
    "duration": 223,
    "start_time": "2023-11-29T06:17:51.080Z"
   },
   {
    "duration": 5,
    "start_time": "2023-11-29T06:17:51.658Z"
   },
   {
    "duration": 6,
    "start_time": "2023-11-29T06:18:11.432Z"
   },
   {
    "duration": 2817,
    "start_time": "2023-11-29T06:39:14.148Z"
   },
   {
    "duration": 1948,
    "start_time": "2023-11-29T06:39:16.966Z"
   },
   {
    "duration": 3331,
    "start_time": "2023-11-29T06:39:18.996Z"
   },
   {
    "duration": 14,
    "start_time": "2023-11-29T06:39:22.329Z"
   },
   {
    "duration": 39,
    "start_time": "2023-11-29T06:39:22.344Z"
   },
   {
    "duration": 28,
    "start_time": "2023-11-29T06:39:22.384Z"
   },
   {
    "duration": 228,
    "start_time": "2023-11-29T06:39:23.465Z"
   },
   {
    "duration": 5,
    "start_time": "2023-11-29T06:39:24.586Z"
   },
   {
    "duration": 3,
    "start_time": "2023-11-29T06:42:44.400Z"
   },
   {
    "duration": 489,
    "start_time": "2023-11-29T06:42:46.414Z"
   },
   {
    "duration": 316,
    "start_time": "2023-11-29T06:42:51.392Z"
   },
   {
    "duration": 2854,
    "start_time": "2023-11-29T07:21:33.191Z"
   },
   {
    "duration": 1999,
    "start_time": "2023-11-29T07:21:36.047Z"
   },
   {
    "duration": 3347,
    "start_time": "2023-11-29T07:21:38.047Z"
   },
   {
    "duration": 13,
    "start_time": "2023-11-29T07:21:41.396Z"
   },
   {
    "duration": 31,
    "start_time": "2023-11-29T07:21:42.612Z"
   },
   {
    "duration": 28,
    "start_time": "2023-11-29T07:21:53.854Z"
   },
   {
    "duration": 213,
    "start_time": "2023-11-29T07:21:54.551Z"
   },
   {
    "duration": 4,
    "start_time": "2023-11-29T07:21:55.567Z"
   },
   {
    "duration": 342,
    "start_time": "2023-11-29T07:22:51.109Z"
   },
   {
    "duration": 81,
    "start_time": "2023-11-29T07:24:53.617Z"
   },
   {
    "duration": 18,
    "start_time": "2023-11-29T07:29:44.299Z"
   },
   {
    "duration": 5250,
    "start_time": "2023-11-29T07:30:05.310Z"
   },
   {
    "duration": 12,
    "start_time": "2023-11-29T07:30:21.245Z"
   },
   {
    "duration": 4,
    "start_time": "2023-11-29T07:30:47.775Z"
   },
   {
    "duration": 48,
    "start_time": "2023-11-29T07:56:23.001Z"
   },
   {
    "duration": 2768,
    "start_time": "2023-11-29T07:56:35.733Z"
   },
   {
    "duration": 2002,
    "start_time": "2023-11-29T07:56:38.505Z"
   },
   {
    "duration": 3537,
    "start_time": "2023-11-29T07:56:40.508Z"
   },
   {
    "duration": 13,
    "start_time": "2023-11-29T07:56:44.047Z"
   },
   {
    "duration": 30,
    "start_time": "2023-11-29T07:56:44.061Z"
   },
   {
    "duration": 24,
    "start_time": "2023-11-29T07:56:44.093Z"
   },
   {
    "duration": 231,
    "start_time": "2023-11-29T07:56:44.119Z"
   },
   {
    "duration": 5,
    "start_time": "2023-11-29T07:56:44.351Z"
   },
   {
    "duration": 5298,
    "start_time": "2023-11-29T07:56:48.197Z"
   },
   {
    "duration": 14,
    "start_time": "2023-11-29T07:57:18.585Z"
   },
   {
    "duration": 3,
    "start_time": "2023-11-29T07:57:30.968Z"
   },
   {
    "duration": 71,
    "start_time": "2023-11-29T07:58:52.543Z"
   },
   {
    "duration": 78,
    "start_time": "2023-11-29T07:59:15.298Z"
   },
   {
    "duration": 1177209,
    "start_time": "2023-11-29T07:59:29.620Z"
   },
   {
    "duration": 16,
    "start_time": "2023-11-29T08:19:33.553Z"
   },
   {
    "duration": 15,
    "start_time": "2023-11-29T08:21:54.978Z"
   },
   {
    "duration": 17,
    "start_time": "2023-11-29T08:22:44.304Z"
   },
   {
    "duration": 9,
    "start_time": "2023-11-29T08:26:06.017Z"
   },
   {
    "duration": 997,
    "start_time": "2023-11-29T08:27:02.468Z"
   },
   {
    "duration": 438,
    "start_time": "2023-11-29T08:27:29.111Z"
   },
   {
    "duration": 21,
    "start_time": "2023-11-29T08:28:51.629Z"
   },
   {
    "duration": 4,
    "start_time": "2023-11-29T08:29:27.123Z"
   },
   {
    "duration": 3,
    "start_time": "2023-11-29T08:30:01.057Z"
   },
   {
    "duration": 2824,
    "start_time": "2023-11-29T08:33:00.187Z"
   },
   {
    "duration": 2030,
    "start_time": "2023-11-29T08:33:05.135Z"
   },
   {
    "duration": 3363,
    "start_time": "2023-11-29T08:33:07.166Z"
   },
   {
    "duration": 14,
    "start_time": "2023-11-29T08:33:10.530Z"
   },
   {
    "duration": 48,
    "start_time": "2023-11-29T08:33:10.545Z"
   },
   {
    "duration": 42,
    "start_time": "2023-11-29T08:33:10.594Z"
   },
   {
    "duration": 237,
    "start_time": "2023-11-29T08:33:10.637Z"
   },
   {
    "duration": 12,
    "start_time": "2023-11-29T08:33:10.876Z"
   },
   {
    "duration": 495,
    "start_time": "2023-11-29T08:34:16.089Z"
   },
   {
    "duration": 1524,
    "start_time": "2023-11-29T08:34:49.791Z"
   },
   {
    "duration": 244,
    "start_time": "2023-11-29T08:35:35.368Z"
   },
   {
    "duration": 12,
    "start_time": "2023-11-29T08:35:52.654Z"
   },
   {
    "duration": 2864480,
    "start_time": "2023-11-29T08:36:35.956Z"
   },
   {
    "duration": 7,
    "start_time": "2023-11-29T09:26:28.272Z"
   },
   {
    "duration": 5668,
    "start_time": "2023-11-29T09:28:21.263Z"
   },
   {
    "duration": 9,
    "start_time": "2023-11-29T09:29:10.603Z"
   },
   {
    "duration": 40,
    "start_time": "2023-11-29T09:29:41.773Z"
   },
   {
    "duration": 7,
    "start_time": "2023-11-29T09:30:02.483Z"
   },
   {
    "duration": 41,
    "start_time": "2023-11-29T09:30:09.643Z"
   },
   {
    "duration": 6872,
    "start_time": "2023-11-29T09:30:11.381Z"
   },
   {
    "duration": 41486,
    "start_time": "2023-11-29T09:30:28.995Z"
   },
   {
    "duration": 398939,
    "start_time": "2023-11-29T09:31:26.885Z"
   },
   {
    "duration": 80381,
    "start_time": "2023-11-29T09:38:38.914Z"
   },
   {
    "duration": 1617318,
    "start_time": "2023-11-29T09:41:12.456Z"
   },
   {
    "duration": 4,
    "start_time": "2023-11-29T10:08:44.091Z"
   },
   {
    "duration": 6308,
    "start_time": "2023-11-29T10:08:47.519Z"
   },
   {
    "duration": 614739,
    "start_time": "2023-11-29T10:09:16.889Z"
   },
   {
    "duration": 97462,
    "start_time": "2023-11-29T10:19:56.999Z"
   },
   {
    "duration": 45462,
    "start_time": "2023-11-29T10:25:01.318Z"
   },
   {
    "duration": 4800,
    "start_time": "2023-11-29T10:26:09.202Z"
   },
   {
    "duration": 1707970,
    "start_time": "2023-11-29T10:26:15.454Z"
   },
   {
    "duration": 17,
    "start_time": "2023-11-29T10:58:53.276Z"
   },
   {
    "duration": 438,
    "start_time": "2023-11-29T10:59:01.631Z"
   },
   {
    "duration": 432,
    "start_time": "2023-11-29T11:02:09.973Z"
   },
   {
    "duration": 3,
    "start_time": "2023-11-29T11:03:51.314Z"
   },
   {
    "duration": 3,
    "start_time": "2023-11-29T11:03:59.697Z"
   },
   {
    "duration": 4,
    "start_time": "2023-11-29T11:04:13.324Z"
   }
  ],
  "kernelspec": {
   "display_name": "Python 3 (ipykernel)",
   "language": "python",
   "name": "python3"
  },
  "language_info": {
   "codemirror_mode": {
    "name": "ipython",
    "version": 3
   },
   "file_extension": ".py",
   "mimetype": "text/x-python",
   "name": "python",
   "nbconvert_exporter": "python",
   "pygments_lexer": "ipython3",
   "version": "3.10.9"
  },
  "toc": {
   "base_numbering": 1,
   "nav_menu": {},
   "number_sections": true,
   "sideBar": true,
   "skip_h1_title": true,
   "title_cell": "Содержание",
   "title_sidebar": "Contents",
   "toc_cell": true,
   "toc_position": {
    "height": "calc(100% - 180px)",
    "left": "10px",
    "top": "150px",
    "width": "165px"
   },
   "toc_section_display": true,
   "toc_window_display": true
  }
 },
 "nbformat": 4,
 "nbformat_minor": 2
}
